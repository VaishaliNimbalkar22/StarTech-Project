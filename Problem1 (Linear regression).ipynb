{
 "cells": [
  {
   "cell_type": "markdown",
   "id": "4d10a15a",
   "metadata": {},
   "source": [
    "## Create a linear regression model in Python to predict the CTC/Salary of new hires from the data provided"
   ]
  },
  {
   "cell_type": "code",
   "execution_count": 1,
   "id": "1ff5836e",
   "metadata": {},
   "outputs": [],
   "source": [
    "import numpy as np\n",
    "import pandas as pd\n",
    "import seaborn as sns\n",
    "import warnings\n",
    "warnings.filterwarnings('ignore')\n",
    "import math\n",
    "from matplotlib import pyplot as plt\n",
    "%matplotlib inline"
   ]
  },
  {
   "cell_type": "code",
   "execution_count": 2,
   "id": "1c3d3447",
   "metadata": {},
   "outputs": [
    {
     "data": {
      "text/html": [
       "<div>\n",
       "<style scoped>\n",
       "    .dataframe tbody tr th:only-of-type {\n",
       "        vertical-align: middle;\n",
       "    }\n",
       "\n",
       "    .dataframe tbody tr th {\n",
       "        vertical-align: top;\n",
       "    }\n",
       "\n",
       "    .dataframe thead th {\n",
       "        text-align: right;\n",
       "    }\n",
       "</style>\n",
       "<table border=\"1\" class=\"dataframe\">\n",
       "  <thead>\n",
       "    <tr style=\"text-align: right;\">\n",
       "      <th></th>\n",
       "      <th>S.No.</th>\n",
       "      <th>College</th>\n",
       "      <th>Role</th>\n",
       "      <th>City type</th>\n",
       "      <th>Previous CTC</th>\n",
       "      <th>Previous job changes</th>\n",
       "      <th>Graduation marks</th>\n",
       "      <th>Exp (Months)</th>\n",
       "      <th>CTC</th>\n",
       "    </tr>\n",
       "  </thead>\n",
       "  <tbody>\n",
       "    <tr>\n",
       "      <th>0</th>\n",
       "      <td>1</td>\n",
       "      <td>Tier 1</td>\n",
       "      <td>Manager</td>\n",
       "      <td>Non-Metro</td>\n",
       "      <td>55523</td>\n",
       "      <td>3</td>\n",
       "      <td>66</td>\n",
       "      <td>19</td>\n",
       "      <td>71406.576531</td>\n",
       "    </tr>\n",
       "    <tr>\n",
       "      <th>1</th>\n",
       "      <td>2</td>\n",
       "      <td>Tier 2</td>\n",
       "      <td>Executive</td>\n",
       "      <td>Metro</td>\n",
       "      <td>57081</td>\n",
       "      <td>1</td>\n",
       "      <td>84</td>\n",
       "      <td>18</td>\n",
       "      <td>68005.870631</td>\n",
       "    </tr>\n",
       "    <tr>\n",
       "      <th>2</th>\n",
       "      <td>3</td>\n",
       "      <td>Tier 2</td>\n",
       "      <td>Executive</td>\n",
       "      <td>Metro</td>\n",
       "      <td>60347</td>\n",
       "      <td>2</td>\n",
       "      <td>52</td>\n",
       "      <td>28</td>\n",
       "      <td>76764.020277</td>\n",
       "    </tr>\n",
       "    <tr>\n",
       "      <th>3</th>\n",
       "      <td>4</td>\n",
       "      <td>Tier 3</td>\n",
       "      <td>Executive</td>\n",
       "      <td>Metro</td>\n",
       "      <td>49010</td>\n",
       "      <td>2</td>\n",
       "      <td>81</td>\n",
       "      <td>33</td>\n",
       "      <td>82092.386880</td>\n",
       "    </tr>\n",
       "    <tr>\n",
       "      <th>4</th>\n",
       "      <td>5</td>\n",
       "      <td>Tier 3</td>\n",
       "      <td>Executive</td>\n",
       "      <td>Metro</td>\n",
       "      <td>57879</td>\n",
       "      <td>4</td>\n",
       "      <td>74</td>\n",
       "      <td>32</td>\n",
       "      <td>73878.097729</td>\n",
       "    </tr>\n",
       "  </tbody>\n",
       "</table>\n",
       "</div>"
      ],
      "text/plain": [
       "   S.No. College       Role  City type  Previous CTC  Previous job changes  \\\n",
       "0      1  Tier 1    Manager  Non-Metro         55523                     3   \n",
       "1      2  Tier 2  Executive      Metro         57081                     1   \n",
       "2      3  Tier 2  Executive      Metro         60347                     2   \n",
       "3      4  Tier 3  Executive      Metro         49010                     2   \n",
       "4      5  Tier 3  Executive      Metro         57879                     4   \n",
       "\n",
       "   Graduation marks  Exp (Months)           CTC  \n",
       "0                66            19  71406.576531  \n",
       "1                84            18  68005.870631  \n",
       "2                52            28  76764.020277  \n",
       "3                81            33  82092.386880  \n",
       "4                74            32  73878.097729  "
      ]
     },
     "execution_count": 2,
     "metadata": {},
     "output_type": "execute_result"
    }
   ],
   "source": [
    "# Extracting the training data\n",
    "train_data=pd.read_excel(\"Data_file.xlsx\")\n",
    "train_data.head()"
   ]
  },
  {
   "cell_type": "code",
   "execution_count": 3,
   "id": "cc7041bf",
   "metadata": {},
   "outputs": [],
   "source": [
    "# dropping unwanted colums\n",
    "train_data=train_data.drop(['S.No.'], axis = 1)"
   ]
  },
  {
   "cell_type": "code",
   "execution_count": 4,
   "id": "d2d6cd88",
   "metadata": {},
   "outputs": [
    {
     "data": {
      "text/html": [
       "<div>\n",
       "<style scoped>\n",
       "    .dataframe tbody tr th:only-of-type {\n",
       "        vertical-align: middle;\n",
       "    }\n",
       "\n",
       "    .dataframe tbody tr th {\n",
       "        vertical-align: top;\n",
       "    }\n",
       "\n",
       "    .dataframe thead th {\n",
       "        text-align: right;\n",
       "    }\n",
       "</style>\n",
       "<table border=\"1\" class=\"dataframe\">\n",
       "  <thead>\n",
       "    <tr style=\"text-align: right;\">\n",
       "      <th></th>\n",
       "      <th>College</th>\n",
       "      <th>Role</th>\n",
       "      <th>City type</th>\n",
       "      <th>Previous CTC</th>\n",
       "      <th>Previous job changes</th>\n",
       "      <th>Graduation marks</th>\n",
       "      <th>Exp (Months)</th>\n",
       "      <th>CTC</th>\n",
       "    </tr>\n",
       "  </thead>\n",
       "  <tbody>\n",
       "    <tr>\n",
       "      <th>0</th>\n",
       "      <td>Tier 1</td>\n",
       "      <td>Manager</td>\n",
       "      <td>Non-Metro</td>\n",
       "      <td>55523</td>\n",
       "      <td>3</td>\n",
       "      <td>66</td>\n",
       "      <td>19</td>\n",
       "      <td>71406.576531</td>\n",
       "    </tr>\n",
       "    <tr>\n",
       "      <th>1</th>\n",
       "      <td>Tier 2</td>\n",
       "      <td>Executive</td>\n",
       "      <td>Metro</td>\n",
       "      <td>57081</td>\n",
       "      <td>1</td>\n",
       "      <td>84</td>\n",
       "      <td>18</td>\n",
       "      <td>68005.870631</td>\n",
       "    </tr>\n",
       "    <tr>\n",
       "      <th>2</th>\n",
       "      <td>Tier 2</td>\n",
       "      <td>Executive</td>\n",
       "      <td>Metro</td>\n",
       "      <td>60347</td>\n",
       "      <td>2</td>\n",
       "      <td>52</td>\n",
       "      <td>28</td>\n",
       "      <td>76764.020277</td>\n",
       "    </tr>\n",
       "    <tr>\n",
       "      <th>3</th>\n",
       "      <td>Tier 3</td>\n",
       "      <td>Executive</td>\n",
       "      <td>Metro</td>\n",
       "      <td>49010</td>\n",
       "      <td>2</td>\n",
       "      <td>81</td>\n",
       "      <td>33</td>\n",
       "      <td>82092.386880</td>\n",
       "    </tr>\n",
       "    <tr>\n",
       "      <th>4</th>\n",
       "      <td>Tier 3</td>\n",
       "      <td>Executive</td>\n",
       "      <td>Metro</td>\n",
       "      <td>57879</td>\n",
       "      <td>4</td>\n",
       "      <td>74</td>\n",
       "      <td>32</td>\n",
       "      <td>73878.097729</td>\n",
       "    </tr>\n",
       "  </tbody>\n",
       "</table>\n",
       "</div>"
      ],
      "text/plain": [
       "  College       Role  City type  Previous CTC  Previous job changes  \\\n",
       "0  Tier 1    Manager  Non-Metro         55523                     3   \n",
       "1  Tier 2  Executive      Metro         57081                     1   \n",
       "2  Tier 2  Executive      Metro         60347                     2   \n",
       "3  Tier 3  Executive      Metro         49010                     2   \n",
       "4  Tier 3  Executive      Metro         57879                     4   \n",
       "\n",
       "   Graduation marks  Exp (Months)           CTC  \n",
       "0                66            19  71406.576531  \n",
       "1                84            18  68005.870631  \n",
       "2                52            28  76764.020277  \n",
       "3                81            33  82092.386880  \n",
       "4                74            32  73878.097729  "
      ]
     },
     "execution_count": 4,
     "metadata": {},
     "output_type": "execute_result"
    }
   ],
   "source": [
    "train_data.head()"
   ]
  },
  {
   "cell_type": "markdown",
   "id": "93e7bb18",
   "metadata": {},
   "source": [
    "## - Performing EDA"
   ]
  },
  {
   "cell_type": "code",
   "execution_count": 5,
   "id": "7df181d3",
   "metadata": {},
   "outputs": [
    {
     "name": "stdout",
     "output_type": "stream",
     "text": [
      "<class 'pandas.core.frame.DataFrame'>\n",
      "RangeIndex: 1338 entries, 0 to 1337\n",
      "Data columns (total 8 columns):\n",
      " #   Column                Non-Null Count  Dtype  \n",
      "---  ------                --------------  -----  \n",
      " 0   College               1338 non-null   object \n",
      " 1   Role                  1338 non-null   object \n",
      " 2   City type             1338 non-null   object \n",
      " 3   Previous CTC          1338 non-null   int64  \n",
      " 4   Previous job changes  1338 non-null   int64  \n",
      " 5   Graduation marks      1338 non-null   int64  \n",
      " 6   Exp (Months)          1338 non-null   int64  \n",
      " 7   CTC                   1338 non-null   float64\n",
      "dtypes: float64(1), int64(4), object(3)\n",
      "memory usage: 83.8+ KB\n"
     ]
    }
   ],
   "source": [
    "train_data.info()"
   ]
  },
  {
   "cell_type": "code",
   "execution_count": 6,
   "id": "f0e4fbb8",
   "metadata": {},
   "outputs": [
    {
     "data": {
      "text/html": [
       "<div>\n",
       "<style scoped>\n",
       "    .dataframe tbody tr th:only-of-type {\n",
       "        vertical-align: middle;\n",
       "    }\n",
       "\n",
       "    .dataframe tbody tr th {\n",
       "        vertical-align: top;\n",
       "    }\n",
       "\n",
       "    .dataframe thead th {\n",
       "        text-align: right;\n",
       "    }\n",
       "</style>\n",
       "<table border=\"1\" class=\"dataframe\">\n",
       "  <thead>\n",
       "    <tr style=\"text-align: right;\">\n",
       "      <th></th>\n",
       "      <th>Previous CTC</th>\n",
       "      <th>Previous job changes</th>\n",
       "      <th>Graduation marks</th>\n",
       "      <th>Exp (Months)</th>\n",
       "      <th>CTC</th>\n",
       "    </tr>\n",
       "  </thead>\n",
       "  <tbody>\n",
       "    <tr>\n",
       "      <th>count</th>\n",
       "      <td>1338.000000</td>\n",
       "      <td>1338.000000</td>\n",
       "      <td>1338.000000</td>\n",
       "      <td>1338.000000</td>\n",
       "      <td>1338.000000</td>\n",
       "    </tr>\n",
       "    <tr>\n",
       "      <th>mean</th>\n",
       "      <td>55581.762332</td>\n",
       "      <td>2.525411</td>\n",
       "      <td>59.890882</td>\n",
       "      <td>39.207025</td>\n",
       "      <td>75459.338993</td>\n",
       "    </tr>\n",
       "    <tr>\n",
       "      <th>std</th>\n",
       "      <td>6685.600553</td>\n",
       "      <td>1.123502</td>\n",
       "      <td>14.894696</td>\n",
       "      <td>14.049960</td>\n",
       "      <td>12551.280263</td>\n",
       "    </tr>\n",
       "    <tr>\n",
       "      <th>min</th>\n",
       "      <td>36990.000000</td>\n",
       "      <td>1.000000</td>\n",
       "      <td>35.000000</td>\n",
       "      <td>18.000000</td>\n",
       "      <td>53020.319026</td>\n",
       "    </tr>\n",
       "    <tr>\n",
       "      <th>25%</th>\n",
       "      <td>50547.000000</td>\n",
       "      <td>2.000000</td>\n",
       "      <td>47.000000</td>\n",
       "      <td>27.000000</td>\n",
       "      <td>66905.070033</td>\n",
       "    </tr>\n",
       "    <tr>\n",
       "      <th>50%</th>\n",
       "      <td>55293.500000</td>\n",
       "      <td>3.000000</td>\n",
       "      <td>60.000000</td>\n",
       "      <td>39.000000</td>\n",
       "      <td>73112.640487</td>\n",
       "    </tr>\n",
       "    <tr>\n",
       "      <th>75%</th>\n",
       "      <td>60150.500000</td>\n",
       "      <td>4.000000</td>\n",
       "      <td>73.000000</td>\n",
       "      <td>51.000000</td>\n",
       "      <td>80747.178420</td>\n",
       "    </tr>\n",
       "    <tr>\n",
       "      <th>max</th>\n",
       "      <td>77911.000000</td>\n",
       "      <td>4.000000</td>\n",
       "      <td>85.000000</td>\n",
       "      <td>64.000000</td>\n",
       "      <td>123416.994271</td>\n",
       "    </tr>\n",
       "  </tbody>\n",
       "</table>\n",
       "</div>"
      ],
      "text/plain": [
       "       Previous CTC  Previous job changes  Graduation marks  Exp (Months)  \\\n",
       "count   1338.000000           1338.000000       1338.000000   1338.000000   \n",
       "mean   55581.762332              2.525411         59.890882     39.207025   \n",
       "std     6685.600553              1.123502         14.894696     14.049960   \n",
       "min    36990.000000              1.000000         35.000000     18.000000   \n",
       "25%    50547.000000              2.000000         47.000000     27.000000   \n",
       "50%    55293.500000              3.000000         60.000000     39.000000   \n",
       "75%    60150.500000              4.000000         73.000000     51.000000   \n",
       "max    77911.000000              4.000000         85.000000     64.000000   \n",
       "\n",
       "                 CTC  \n",
       "count    1338.000000  \n",
       "mean    75459.338993  \n",
       "std     12551.280263  \n",
       "min     53020.319026  \n",
       "25%     66905.070033  \n",
       "50%     73112.640487  \n",
       "75%     80747.178420  \n",
       "max    123416.994271  "
      ]
     },
     "execution_count": 6,
     "metadata": {},
     "output_type": "execute_result"
    }
   ],
   "source": [
    "train_data.describe()"
   ]
  },
  {
   "cell_type": "markdown",
   "id": "71ba0f73",
   "metadata": {},
   "source": [
    "### - Checking for missing values"
   ]
  },
  {
   "cell_type": "code",
   "execution_count": 7,
   "id": "a63667f3",
   "metadata": {
    "scrolled": true
   },
   "outputs": [
    {
     "data": {
      "text/plain": [
       "College                 0\n",
       "Role                    0\n",
       "City type               0\n",
       "Previous CTC            0\n",
       "Previous job changes    0\n",
       "Graduation marks        0\n",
       "Exp (Months)            0\n",
       "CTC                     0\n",
       "dtype: int64"
      ]
     },
     "execution_count": 7,
     "metadata": {},
     "output_type": "execute_result"
    }
   ],
   "source": [
    "train_data.isnull().sum()"
   ]
  },
  {
   "cell_type": "markdown",
   "id": "8239f772",
   "metadata": {},
   "source": [
    "- Here, we can see that there are no missing values in the data set"
   ]
  },
  {
   "cell_type": "markdown",
   "id": "08a60ffc",
   "metadata": {},
   "source": [
    "### We have 3 categorical variables in the data\n",
    "        - College\n",
    "        - Role\n",
    "        - City type\n",
    "     We need to convert them into numeric. We will use get_dummies functions"
   ]
  },
  {
   "cell_type": "markdown",
   "id": "aaaf4bea",
   "metadata": {},
   "source": [
    "\n"
   ]
  },
  {
   "cell_type": "code",
   "execution_count": 8,
   "id": "07ce75c5",
   "metadata": {},
   "outputs": [],
   "source": [
    "cat_col=['College','Role','City type']"
   ]
  },
  {
   "cell_type": "code",
   "execution_count": 9,
   "id": "ddfb29c9",
   "metadata": {},
   "outputs": [
    {
     "data": {
      "text/html": [
       "<div>\n",
       "<style scoped>\n",
       "    .dataframe tbody tr th:only-of-type {\n",
       "        vertical-align: middle;\n",
       "    }\n",
       "\n",
       "    .dataframe tbody tr th {\n",
       "        vertical-align: top;\n",
       "    }\n",
       "\n",
       "    .dataframe thead th {\n",
       "        text-align: right;\n",
       "    }\n",
       "</style>\n",
       "<table border=\"1\" class=\"dataframe\">\n",
       "  <thead>\n",
       "    <tr style=\"text-align: right;\">\n",
       "      <th></th>\n",
       "      <th>Previous CTC</th>\n",
       "      <th>Previous job changes</th>\n",
       "      <th>Graduation marks</th>\n",
       "      <th>Exp (Months)</th>\n",
       "      <th>CTC</th>\n",
       "      <th>College_Tier 1</th>\n",
       "      <th>College_Tier 2</th>\n",
       "      <th>Role_Manager</th>\n",
       "      <th>City type_Metro</th>\n",
       "    </tr>\n",
       "  </thead>\n",
       "  <tbody>\n",
       "    <tr>\n",
       "      <th>0</th>\n",
       "      <td>55523</td>\n",
       "      <td>3</td>\n",
       "      <td>66</td>\n",
       "      <td>19</td>\n",
       "      <td>71406.576531</td>\n",
       "      <td>1</td>\n",
       "      <td>0</td>\n",
       "      <td>1</td>\n",
       "      <td>0</td>\n",
       "    </tr>\n",
       "    <tr>\n",
       "      <th>1</th>\n",
       "      <td>57081</td>\n",
       "      <td>1</td>\n",
       "      <td>84</td>\n",
       "      <td>18</td>\n",
       "      <td>68005.870631</td>\n",
       "      <td>0</td>\n",
       "      <td>1</td>\n",
       "      <td>0</td>\n",
       "      <td>1</td>\n",
       "    </tr>\n",
       "    <tr>\n",
       "      <th>2</th>\n",
       "      <td>60347</td>\n",
       "      <td>2</td>\n",
       "      <td>52</td>\n",
       "      <td>28</td>\n",
       "      <td>76764.020277</td>\n",
       "      <td>0</td>\n",
       "      <td>1</td>\n",
       "      <td>0</td>\n",
       "      <td>1</td>\n",
       "    </tr>\n",
       "    <tr>\n",
       "      <th>3</th>\n",
       "      <td>49010</td>\n",
       "      <td>2</td>\n",
       "      <td>81</td>\n",
       "      <td>33</td>\n",
       "      <td>82092.386880</td>\n",
       "      <td>0</td>\n",
       "      <td>0</td>\n",
       "      <td>0</td>\n",
       "      <td>1</td>\n",
       "    </tr>\n",
       "    <tr>\n",
       "      <th>4</th>\n",
       "      <td>57879</td>\n",
       "      <td>4</td>\n",
       "      <td>74</td>\n",
       "      <td>32</td>\n",
       "      <td>73878.097729</td>\n",
       "      <td>0</td>\n",
       "      <td>0</td>\n",
       "      <td>0</td>\n",
       "      <td>1</td>\n",
       "    </tr>\n",
       "  </tbody>\n",
       "</table>\n",
       "</div>"
      ],
      "text/plain": [
       "   Previous CTC  Previous job changes  Graduation marks  Exp (Months)  \\\n",
       "0         55523                     3                66            19   \n",
       "1         57081                     1                84            18   \n",
       "2         60347                     2                52            28   \n",
       "3         49010                     2                81            33   \n",
       "4         57879                     4                74            32   \n",
       "\n",
       "            CTC  College_Tier 1  College_Tier 2  Role_Manager  City type_Metro  \n",
       "0  71406.576531               1               0             1                0  \n",
       "1  68005.870631               0               1             0                1  \n",
       "2  76764.020277               0               1             0                1  \n",
       "3  82092.386880               0               0             0                1  \n",
       "4  73878.097729               0               0             0                1  "
      ]
     },
     "execution_count": 9,
     "metadata": {},
     "output_type": "execute_result"
    }
   ],
   "source": [
    "train_data_dummy=pd.get_dummies(train_data,columns=cat_col)\n",
    "train_data_dummy=train_data_dummy.drop(['College_Tier 3','Role_Executive','City type_Non-Metro'],axis=1)\n",
    "train_data_dummy.head()"
   ]
  },
  {
   "cell_type": "code",
   "execution_count": 10,
   "id": "1fe583cb",
   "metadata": {},
   "outputs": [
    {
     "data": {
      "image/png": "[encoded data removed]",
      "text/plain": [
       "<Figure size 360x180 with 2 Axes>"
      ]
     },
     "metadata": {
      "needs_background": "light"
     },
     "output_type": "display_data"
    }
   ],
   "source": [
    "sns.pairplot(data=train_data_dummy,x_vars=['Exp (Months)','Previous CTC'],y_vars='CTC',aspect=1)\n",
    "plt.show()"
   ]
  },
  {
   "cell_type": "code",
   "execution_count": null,
   "id": "e7d994ed",
   "metadata": {},
   "outputs": [],
   "source": [
    "# Here we can observe that the role of Experience and previous CTC is quite significant"
   ]
  },
  {
   "cell_type": "markdown",
   "id": "5714ed7d",
   "metadata": {},
   "source": [
    "### lets define target and dependent variables"
   ]
  },
  {
   "cell_type": "code",
   "execution_count": 11,
   "id": "bad76a93",
   "metadata": {},
   "outputs": [],
   "source": [
    "y=train_data_dummy[['CTC']]\n",
    "x=train_data_dummy.drop(columns='CTC')"
   ]
  },
  {
   "cell_type": "markdown",
   "id": "e790b637",
   "metadata": {},
   "source": [
    "### Splitting the data into train and test"
   ]
  },
  {
   "cell_type": "code",
   "execution_count": 12,
   "id": "0492727e",
   "metadata": {},
   "outputs": [
    {
     "data": {
      "text/plain": [
       "(936, 402, 936, 402)"
      ]
     },
     "execution_count": 12,
     "metadata": {},
     "output_type": "execute_result"
    }
   ],
   "source": [
    "from sklearn.model_selection import train_test_split\n",
    "x_train,x_test,y_train,y_test=train_test_split(x,y,train_size=0.70,random_state=111)\n",
    "len(x_train),len(x_test),len(y_train),len(y_test)"
   ]
  },
  {
   "cell_type": "markdown",
   "id": "3f583438",
   "metadata": {},
   "source": [
    "### Creating linear model"
   ]
  },
  {
   "cell_type": "code",
   "execution_count": 13,
   "id": "d0b0c027",
   "metadata": {},
   "outputs": [
    {
     "data": {
      "text/plain": [
       "LinearRegression()"
      ]
     },
     "execution_count": 13,
     "metadata": {},
     "output_type": "execute_result"
    }
   ],
   "source": [
    "from sklearn.linear_model import LinearRegression\n",
    "MLR=LinearRegression()\n",
    "MLR_model=MLR.fit(x_train,y_train)\n",
    "MLR_model"
   ]
  },
  {
   "cell_type": "code",
   "execution_count": 34,
   "id": "1b83cef7",
   "metadata": {},
   "outputs": [],
   "source": [
    "# Here model MLR_Model is ready"
   ]
  },
  {
   "cell_type": "code",
   "execution_count": 36,
   "id": "5d877060",
   "metadata": {},
   "outputs": [
    {
     "name": "stdout",
     "output_type": "stream",
     "text": [
      "The intercepts values:  [33607.6868882]\n",
      "The coefficients value:  [[ 4.26063905e-01 -2.71770468e+01 -2.04141596e+00  2.66320642e+02\n",
      "   4.50568532e+03 -9.71129566e+02  1.93706925e+04  4.17371278e+03]]\n"
     ]
    }
   ],
   "source": [
    "# finding m-value\n",
    "print(\"The intercepts values: \", MLR_model.intercept_)\n",
    "print(\"The coefficients value: \", MLR_model.coef_)"
   ]
  },
  {
   "cell_type": "markdown",
   "id": "89df2361",
   "metadata": {},
   "source": [
    "### Predicting the CTC using our trained model"
   ]
  },
  {
   "cell_type": "code",
   "execution_count": 15,
   "id": "075ca1f3",
   "metadata": {},
   "outputs": [
    {
     "data": {
      "text/html": [
       "<div>\n",
       "<style scoped>\n",
       "    .dataframe tbody tr th:only-of-type {\n",
       "        vertical-align: middle;\n",
       "    }\n",
       "\n",
       "    .dataframe tbody tr th {\n",
       "        vertical-align: top;\n",
       "    }\n",
       "\n",
       "    .dataframe thead th {\n",
       "        text-align: right;\n",
       "    }\n",
       "</style>\n",
       "<table border=\"1\" class=\"dataframe\">\n",
       "  <thead>\n",
       "    <tr style=\"text-align: right;\">\n",
       "      <th></th>\n",
       "      <th>CTC</th>\n",
       "      <th>Predicted CTC</th>\n",
       "    </tr>\n",
       "  </thead>\n",
       "  <tbody>\n",
       "    <tr>\n",
       "      <th>1000</th>\n",
       "      <td>70944.167462</td>\n",
       "      <td>84239.278003</td>\n",
       "    </tr>\n",
       "    <tr>\n",
       "      <th>53</th>\n",
       "      <td>92378.502641</td>\n",
       "      <td>90349.908490</td>\n",
       "    </tr>\n",
       "    <tr>\n",
       "      <th>432</th>\n",
       "      <td>70832.226387</td>\n",
       "      <td>76978.706074</td>\n",
       "    </tr>\n",
       "    <tr>\n",
       "      <th>162</th>\n",
       "      <td>83984.481546</td>\n",
       "      <td>82128.329914</td>\n",
       "    </tr>\n",
       "    <tr>\n",
       "      <th>1020</th>\n",
       "      <td>81962.819031</td>\n",
       "      <td>81421.458455</td>\n",
       "    </tr>\n",
       "  </tbody>\n",
       "</table>\n",
       "</div>"
      ],
      "text/plain": [
       "               CTC  Predicted CTC\n",
       "1000  70944.167462   84239.278003\n",
       "53    92378.502641   90349.908490\n",
       "432   70832.226387   76978.706074\n",
       "162   83984.481546   82128.329914\n",
       "1020  81962.819031   81421.458455"
      ]
     },
     "execution_count": 15,
     "metadata": {},
     "output_type": "execute_result"
    }
   ],
   "source": [
    "y_test['Predicted CTC']=MLR_model.predict(x_test)\n",
    "y_test.head()"
   ]
  },
  {
   "cell_type": "markdown",
   "id": "8d29a725",
   "metadata": {},
   "source": [
    "## Evaluating the model"
   ]
  },
  {
   "cell_type": "code",
   "execution_count": 16,
   "id": "fe849c9b",
   "metadata": {},
   "outputs": [
    {
     "name": "stdout",
     "output_type": "stream",
     "text": [
      " The r_squared value is: 0.6045198673537086\n"
     ]
    }
   ],
   "source": [
    "r_square=MLR_model.score(x_train,y_train)\n",
    "print(\" The r_squared value is:\",r_square)"
   ]
  },
  {
   "cell_type": "markdown",
   "id": "79742f76",
   "metadata": {},
   "source": [
    "### Finding the errors"
   ]
  },
  {
   "cell_type": "code",
   "execution_count": 17,
   "id": "35ac4a70",
   "metadata": {},
   "outputs": [
    {
     "data": {
      "text/plain": [
       "1000   -13295.110541\n",
       "53       2028.594151\n",
       "432     -6146.479687\n",
       "162      1856.151632\n",
       "1020      541.360576\n",
       "dtype: float64"
      ]
     },
     "execution_count": 17,
     "metadata": {},
     "output_type": "execute_result"
    }
   ],
   "source": [
    "error=y_test['CTC']-y_test['Predicted CTC']\n",
    "error.head()"
   ]
  },
  {
   "cell_type": "code",
   "execution_count": 18,
   "id": "45c77715",
   "metadata": {},
   "outputs": [
    {
     "data": {
      "text/plain": [
       "0.4016059391277571"
      ]
     },
     "execution_count": 18,
     "metadata": {},
     "output_type": "execute_result"
    }
   ],
   "source": [
    "error.skew()"
   ]
  },
  {
   "cell_type": "markdown",
   "id": "1ff2b2fa",
   "metadata": {},
   "source": [
    "### Checking the normality for errors"
   ]
  },
  {
   "cell_type": "code",
   "execution_count": 19,
   "id": "b8811a01",
   "metadata": {},
   "outputs": [
    {
     "data": {
      "text/plain": [
       "<AxesSubplot:ylabel='Density'>"
      ]
     },
     "execution_count": 19,
     "metadata": {},
     "output_type": "execute_result"
    },
    {
     "data": {
      "image/png": "[encoded data removed]",
      "text/plain": [
       "<Figure size 432x288 with 1 Axes>"
      ]
     },
     "metadata": {
      "needs_background": "light"
     },
     "output_type": "display_data"
    }
   ],
   "source": [
    "sns.distplot(error)"
   ]
  },
  {
   "cell_type": "markdown",
   "id": "bf3c722c",
   "metadata": {},
   "source": [
    "- Here, we can say that the errors are normality distributed"
   ]
  },
  {
   "cell_type": "code",
   "execution_count": 20,
   "id": "e79d5f08",
   "metadata": {},
   "outputs": [
    {
     "data": {
      "text/html": [
       "<div>\n",
       "<style scoped>\n",
       "    .dataframe tbody tr th:only-of-type {\n",
       "        vertical-align: middle;\n",
       "    }\n",
       "\n",
       "    .dataframe tbody tr th {\n",
       "        vertical-align: top;\n",
       "    }\n",
       "\n",
       "    .dataframe thead th {\n",
       "        text-align: right;\n",
       "    }\n",
       "</style>\n",
       "<table border=\"1\" class=\"dataframe\">\n",
       "  <thead>\n",
       "    <tr style=\"text-align: right;\">\n",
       "      <th></th>\n",
       "      <th>CTC</th>\n",
       "      <th>Predicted CTC</th>\n",
       "      <th>sq_error</th>\n",
       "    </tr>\n",
       "  </thead>\n",
       "  <tbody>\n",
       "    <tr>\n",
       "      <th>1000</th>\n",
       "      <td>70944.167462</td>\n",
       "      <td>84239.278003</td>\n",
       "      <td>1.767600e+08</td>\n",
       "    </tr>\n",
       "    <tr>\n",
       "      <th>53</th>\n",
       "      <td>92378.502641</td>\n",
       "      <td>90349.908490</td>\n",
       "      <td>4.115194e+06</td>\n",
       "    </tr>\n",
       "    <tr>\n",
       "      <th>432</th>\n",
       "      <td>70832.226387</td>\n",
       "      <td>76978.706074</td>\n",
       "      <td>3.777921e+07</td>\n",
       "    </tr>\n",
       "    <tr>\n",
       "      <th>162</th>\n",
       "      <td>83984.481546</td>\n",
       "      <td>82128.329914</td>\n",
       "      <td>3.445299e+06</td>\n",
       "    </tr>\n",
       "    <tr>\n",
       "      <th>1020</th>\n",
       "      <td>81962.819031</td>\n",
       "      <td>81421.458455</td>\n",
       "      <td>2.930713e+05</td>\n",
       "    </tr>\n",
       "  </tbody>\n",
       "</table>\n",
       "</div>"
      ],
      "text/plain": [
       "               CTC  Predicted CTC      sq_error\n",
       "1000  70944.167462   84239.278003  1.767600e+08\n",
       "53    92378.502641   90349.908490  4.115194e+06\n",
       "432   70832.226387   76978.706074  3.777921e+07\n",
       "162   83984.481546   82128.329914  3.445299e+06\n",
       "1020  81962.819031   81421.458455  2.930713e+05"
      ]
     },
     "execution_count": 20,
     "metadata": {},
     "output_type": "execute_result"
    }
   ],
   "source": [
    "#calulating sq-error\n",
    "y_test['sq_error']=error**2\n",
    "y_test.head()"
   ]
  },
  {
   "cell_type": "code",
   "execution_count": 21,
   "id": "5d8bed45",
   "metadata": {},
   "outputs": [
    {
     "data": {
      "text/plain": [
       "62268857.23920927"
      ]
     },
     "execution_count": 21,
     "metadata": {},
     "output_type": "execute_result"
    }
   ],
   "source": [
    "# calulating mean error\n",
    "error_mean=y_test['sq_error'].mean()\n",
    "error_mean"
   ]
  },
  {
   "cell_type": "markdown",
   "id": "b1dd2534",
   "metadata": {},
   "source": [
    "### Finding RMSE value for our model"
   ]
  },
  {
   "cell_type": "code",
   "execution_count": 37,
   "id": "bc531736",
   "metadata": {},
   "outputs": [
    {
     "name": "stdout",
     "output_type": "stream",
     "text": [
      "The RMSE value of the model is: 7891.061857520144\n"
     ]
    }
   ],
   "source": [
    "import math\n",
    "RMSE=math.sqrt(error_mean)\n",
    "print(\"The RMSE value of the model is:\",RMSE)"
   ]
  },
  {
   "cell_type": "markdown",
   "id": "83b0bd82",
   "metadata": {},
   "source": [
    "### As the model is ready and is evaluated, hence we will go ahead and test it using test data file"
   ]
  },
  {
   "cell_type": "markdown",
   "id": "c3d1b491",
   "metadata": {},
   "source": [
    "### Getting the test data file"
   ]
  },
  {
   "cell_type": "code",
   "execution_count": 23,
   "id": "339d1056",
   "metadata": {},
   "outputs": [
    {
     "data": {
      "text/html": [
       "<div>\n",
       "<style scoped>\n",
       "    .dataframe tbody tr th:only-of-type {\n",
       "        vertical-align: middle;\n",
       "    }\n",
       "\n",
       "    .dataframe tbody tr th {\n",
       "        vertical-align: top;\n",
       "    }\n",
       "\n",
       "    .dataframe thead th {\n",
       "        text-align: right;\n",
       "    }\n",
       "</style>\n",
       "<table border=\"1\" class=\"dataframe\">\n",
       "  <thead>\n",
       "    <tr style=\"text-align: right;\">\n",
       "      <th></th>\n",
       "      <th>College</th>\n",
       "      <th>Role</th>\n",
       "      <th>City type</th>\n",
       "      <th>College_T1</th>\n",
       "      <th>College_T2</th>\n",
       "      <th>Role_Manager</th>\n",
       "      <th>City_Metro</th>\n",
       "      <th>previous CTC</th>\n",
       "      <th>previous job changes</th>\n",
       "      <th>Graduation marks</th>\n",
       "      <th>Exp</th>\n",
       "      <th>Actual CTC</th>\n",
       "      <th>Predicted CTC</th>\n",
       "    </tr>\n",
       "  </thead>\n",
       "  <tbody>\n",
       "    <tr>\n",
       "      <th>0</th>\n",
       "      <td>Tier 1</td>\n",
       "      <td>Manager</td>\n",
       "      <td>Non-Metro</td>\n",
       "      <td>1</td>\n",
       "      <td>0</td>\n",
       "      <td>1</td>\n",
       "      <td>0</td>\n",
       "      <td>55523</td>\n",
       "      <td>3</td>\n",
       "      <td>66</td>\n",
       "      <td>19</td>\n",
       "      <td>71406.576531</td>\n",
       "      <td>NaN</td>\n",
       "    </tr>\n",
       "    <tr>\n",
       "      <th>1</th>\n",
       "      <td>Tier 2</td>\n",
       "      <td>Executive</td>\n",
       "      <td>Metro</td>\n",
       "      <td>0</td>\n",
       "      <td>1</td>\n",
       "      <td>0</td>\n",
       "      <td>1</td>\n",
       "      <td>57081</td>\n",
       "      <td>1</td>\n",
       "      <td>84</td>\n",
       "      <td>18</td>\n",
       "      <td>68005.870631</td>\n",
       "      <td>NaN</td>\n",
       "    </tr>\n",
       "    <tr>\n",
       "      <th>2</th>\n",
       "      <td>Tier 2</td>\n",
       "      <td>Executive</td>\n",
       "      <td>Metro</td>\n",
       "      <td>0</td>\n",
       "      <td>1</td>\n",
       "      <td>0</td>\n",
       "      <td>1</td>\n",
       "      <td>60347</td>\n",
       "      <td>2</td>\n",
       "      <td>52</td>\n",
       "      <td>28</td>\n",
       "      <td>76764.020277</td>\n",
       "      <td>NaN</td>\n",
       "    </tr>\n",
       "    <tr>\n",
       "      <th>3</th>\n",
       "      <td>Tier 3</td>\n",
       "      <td>Executive</td>\n",
       "      <td>Metro</td>\n",
       "      <td>0</td>\n",
       "      <td>0</td>\n",
       "      <td>0</td>\n",
       "      <td>1</td>\n",
       "      <td>49010</td>\n",
       "      <td>2</td>\n",
       "      <td>81</td>\n",
       "      <td>33</td>\n",
       "      <td>82092.386880</td>\n",
       "      <td>NaN</td>\n",
       "    </tr>\n",
       "    <tr>\n",
       "      <th>4</th>\n",
       "      <td>Tier 3</td>\n",
       "      <td>Executive</td>\n",
       "      <td>Metro</td>\n",
       "      <td>0</td>\n",
       "      <td>0</td>\n",
       "      <td>0</td>\n",
       "      <td>1</td>\n",
       "      <td>57879</td>\n",
       "      <td>4</td>\n",
       "      <td>74</td>\n",
       "      <td>32</td>\n",
       "      <td>73878.097729</td>\n",
       "      <td>NaN</td>\n",
       "    </tr>\n",
       "  </tbody>\n",
       "</table>\n",
       "</div>"
      ],
      "text/plain": [
       "  College       Role  City type  College_T1  College_T2  Role_Manager  \\\n",
       "0  Tier 1    Manager  Non-Metro           1           0             1   \n",
       "1  Tier 2  Executive      Metro           0           1             0   \n",
       "2  Tier 2  Executive      Metro           0           1             0   \n",
       "3  Tier 3  Executive      Metro           0           0             0   \n",
       "4  Tier 3  Executive      Metro           0           0             0   \n",
       "\n",
       "   City_Metro  previous CTC  previous job changes  Graduation marks  Exp  \\\n",
       "0           0         55523                     3                66   19   \n",
       "1           1         57081                     1                84   18   \n",
       "2           1         60347                     2                52   28   \n",
       "3           1         49010                     2                81   33   \n",
       "4           1         57879                     4                74   32   \n",
       "\n",
       "     Actual CTC  Predicted CTC  \n",
       "0  71406.576531            NaN  \n",
       "1  68005.870631            NaN  \n",
       "2  76764.020277            NaN  \n",
       "3  82092.386880            NaN  \n",
       "4  73878.097729            NaN  "
      ]
     },
     "execution_count": 23,
     "metadata": {},
     "output_type": "execute_result"
    }
   ],
   "source": [
    "test_data=pd.read_excel(\"Test_data_file.xlsx\")\n",
    "test_data.head()"
   ]
  },
  {
   "cell_type": "markdown",
   "id": "c2c126c8",
   "metadata": {},
   "source": [
    "### Preprocessing"
   ]
  },
  {
   "cell_type": "code",
   "execution_count": 24,
   "id": "ec7d4606",
   "metadata": {},
   "outputs": [],
   "source": [
    "# Renaming the columns as per train data\n",
    "test_data=test_data.rename(columns={'College_T1':'College_Tier 1','College_T2':'College_Tier 2','City_Metro':'City type_Metro',\n",
    "                                   'previous CTC':'Previous CTC','previous job changes':'Previous job changes',\n",
    "                                    'Actual CTC':'CTC','Exp':'Exp (Months)'})"
   ]
  },
  {
   "cell_type": "code",
   "execution_count": 25,
   "id": "9cb902a2",
   "metadata": {},
   "outputs": [
    {
     "data": {
      "text/html": [
       "<div>\n",
       "<style scoped>\n",
       "    .dataframe tbody tr th:only-of-type {\n",
       "        vertical-align: middle;\n",
       "    }\n",
       "\n",
       "    .dataframe tbody tr th {\n",
       "        vertical-align: top;\n",
       "    }\n",
       "\n",
       "    .dataframe thead th {\n",
       "        text-align: right;\n",
       "    }\n",
       "</style>\n",
       "<table border=\"1\" class=\"dataframe\">\n",
       "  <thead>\n",
       "    <tr style=\"text-align: right;\">\n",
       "      <th></th>\n",
       "      <th>Previous CTC</th>\n",
       "      <th>Previous job changes</th>\n",
       "      <th>Graduation marks</th>\n",
       "      <th>Exp (Months)</th>\n",
       "      <th>CTC</th>\n",
       "      <th>College_Tier 1</th>\n",
       "      <th>College_Tier 2</th>\n",
       "      <th>Role_Manager</th>\n",
       "      <th>City type_Metro</th>\n",
       "      <th>Predicted CTC</th>\n",
       "    </tr>\n",
       "  </thead>\n",
       "  <tbody>\n",
       "    <tr>\n",
       "      <th>0</th>\n",
       "      <td>55523</td>\n",
       "      <td>3</td>\n",
       "      <td>66</td>\n",
       "      <td>19</td>\n",
       "      <td>71406.576531</td>\n",
       "      <td>1</td>\n",
       "      <td>0</td>\n",
       "      <td>1</td>\n",
       "      <td>0</td>\n",
       "      <td>NaN</td>\n",
       "    </tr>\n",
       "    <tr>\n",
       "      <th>1</th>\n",
       "      <td>57081</td>\n",
       "      <td>1</td>\n",
       "      <td>84</td>\n",
       "      <td>18</td>\n",
       "      <td>68005.870631</td>\n",
       "      <td>0</td>\n",
       "      <td>1</td>\n",
       "      <td>0</td>\n",
       "      <td>1</td>\n",
       "      <td>NaN</td>\n",
       "    </tr>\n",
       "    <tr>\n",
       "      <th>2</th>\n",
       "      <td>60347</td>\n",
       "      <td>2</td>\n",
       "      <td>52</td>\n",
       "      <td>28</td>\n",
       "      <td>76764.020277</td>\n",
       "      <td>0</td>\n",
       "      <td>1</td>\n",
       "      <td>0</td>\n",
       "      <td>1</td>\n",
       "      <td>NaN</td>\n",
       "    </tr>\n",
       "    <tr>\n",
       "      <th>3</th>\n",
       "      <td>49010</td>\n",
       "      <td>2</td>\n",
       "      <td>81</td>\n",
       "      <td>33</td>\n",
       "      <td>82092.386880</td>\n",
       "      <td>0</td>\n",
       "      <td>0</td>\n",
       "      <td>0</td>\n",
       "      <td>1</td>\n",
       "      <td>NaN</td>\n",
       "    </tr>\n",
       "    <tr>\n",
       "      <th>4</th>\n",
       "      <td>57879</td>\n",
       "      <td>4</td>\n",
       "      <td>74</td>\n",
       "      <td>32</td>\n",
       "      <td>73878.097729</td>\n",
       "      <td>0</td>\n",
       "      <td>0</td>\n",
       "      <td>0</td>\n",
       "      <td>1</td>\n",
       "      <td>NaN</td>\n",
       "    </tr>\n",
       "  </tbody>\n",
       "</table>\n",
       "</div>"
      ],
      "text/plain": [
       "   Previous CTC  Previous job changes  Graduation marks  Exp (Months)  \\\n",
       "0         55523                     3                66            19   \n",
       "1         57081                     1                84            18   \n",
       "2         60347                     2                52            28   \n",
       "3         49010                     2                81            33   \n",
       "4         57879                     4                74            32   \n",
       "\n",
       "            CTC  College_Tier 1  College_Tier 2  Role_Manager  \\\n",
       "0  71406.576531               1               0             1   \n",
       "1  68005.870631               0               1             0   \n",
       "2  76764.020277               0               1             0   \n",
       "3  82092.386880               0               0             0   \n",
       "4  73878.097729               0               0             0   \n",
       "\n",
       "   City type_Metro  Predicted CTC  \n",
       "0                0            NaN  \n",
       "1                1            NaN  \n",
       "2                1            NaN  \n",
       "3                1            NaN  \n",
       "4                1            NaN  "
      ]
     },
     "execution_count": 25,
     "metadata": {},
     "output_type": "execute_result"
    }
   ],
   "source": [
    "# Dropping unwanted columns and re-arranging\n",
    "test_data=test_data.drop(columns=['College','Role','City type'], axis=1)\n",
    "test_data=test_data[['Previous CTC','Previous job changes','Graduation marks','Exp (Months)','CTC','College_Tier 1',\n",
    "                     'College_Tier 2','Role_Manager','City type_Metro','Predicted CTC']]\n",
    "test_data.head()"
   ]
  },
  {
   "cell_type": "markdown",
   "id": "a2c92b25",
   "metadata": {},
   "source": [
    "### Predicting the values for test data using our trained model"
   ]
  },
  {
   "cell_type": "code",
   "execution_count": 27,
   "id": "0d4adae6",
   "metadata": {},
   "outputs": [
    {
     "data": {
      "text/html": [
       "<div>\n",
       "<style scoped>\n",
       "    .dataframe tbody tr th:only-of-type {\n",
       "        vertical-align: middle;\n",
       "    }\n",
       "\n",
       "    .dataframe tbody tr th {\n",
       "        vertical-align: top;\n",
       "    }\n",
       "\n",
       "    .dataframe thead th {\n",
       "        text-align: right;\n",
       "    }\n",
       "</style>\n",
       "<table border=\"1\" class=\"dataframe\">\n",
       "  <thead>\n",
       "    <tr style=\"text-align: right;\">\n",
       "      <th></th>\n",
       "      <th>Previous CTC</th>\n",
       "      <th>Previous job changes</th>\n",
       "      <th>Graduation marks</th>\n",
       "      <th>Exp (Months)</th>\n",
       "      <th>College_Tier 1</th>\n",
       "      <th>College_Tier 2</th>\n",
       "      <th>Role_Manager</th>\n",
       "      <th>City type_Metro</th>\n",
       "    </tr>\n",
       "  </thead>\n",
       "  <tbody>\n",
       "    <tr>\n",
       "      <th>0</th>\n",
       "      <td>55523</td>\n",
       "      <td>3</td>\n",
       "      <td>66</td>\n",
       "      <td>19</td>\n",
       "      <td>1</td>\n",
       "      <td>0</td>\n",
       "      <td>1</td>\n",
       "      <td>0</td>\n",
       "    </tr>\n",
       "    <tr>\n",
       "      <th>1</th>\n",
       "      <td>57081</td>\n",
       "      <td>1</td>\n",
       "      <td>84</td>\n",
       "      <td>18</td>\n",
       "      <td>0</td>\n",
       "      <td>1</td>\n",
       "      <td>0</td>\n",
       "      <td>1</td>\n",
       "    </tr>\n",
       "    <tr>\n",
       "      <th>2</th>\n",
       "      <td>60347</td>\n",
       "      <td>2</td>\n",
       "      <td>52</td>\n",
       "      <td>28</td>\n",
       "      <td>0</td>\n",
       "      <td>1</td>\n",
       "      <td>0</td>\n",
       "      <td>1</td>\n",
       "    </tr>\n",
       "    <tr>\n",
       "      <th>3</th>\n",
       "      <td>49010</td>\n",
       "      <td>2</td>\n",
       "      <td>81</td>\n",
       "      <td>33</td>\n",
       "      <td>0</td>\n",
       "      <td>0</td>\n",
       "      <td>0</td>\n",
       "      <td>1</td>\n",
       "    </tr>\n",
       "    <tr>\n",
       "      <th>4</th>\n",
       "      <td>57879</td>\n",
       "      <td>4</td>\n",
       "      <td>74</td>\n",
       "      <td>32</td>\n",
       "      <td>0</td>\n",
       "      <td>0</td>\n",
       "      <td>0</td>\n",
       "      <td>1</td>\n",
       "    </tr>\n",
       "  </tbody>\n",
       "</table>\n",
       "</div>"
      ],
      "text/plain": [
       "   Previous CTC  Previous job changes  Graduation marks  Exp (Months)  \\\n",
       "0         55523                     3                66            19   \n",
       "1         57081                     1                84            18   \n",
       "2         60347                     2                52            28   \n",
       "3         49010                     2                81            33   \n",
       "4         57879                     4                74            32   \n",
       "\n",
       "   College_Tier 1  College_Tier 2  Role_Manager  City type_Metro  \n",
       "0               1               0             1                0  \n",
       "1               0               1             0                1  \n",
       "2               0               1             0                1  \n",
       "3               0               0             0                1  \n",
       "4               0               0             0                1  "
      ]
     },
     "execution_count": 27,
     "metadata": {},
     "output_type": "execute_result"
    }
   ],
   "source": [
    "# Creating validation data for prediction\n",
    "val_data=test_data.drop(columns=['CTC','Predicted CTC'])\n",
    "val_data.head()"
   ]
  },
  {
   "cell_type": "code",
   "execution_count": 28,
   "id": "1a9d51a8",
   "metadata": {},
   "outputs": [
    {
     "data": {
      "text/plain": [
       "0    85984.238465\n",
       "1    65725.539410\n",
       "2    69818.418810\n",
       "3    67231.664040\n",
       "4    70704.039984\n",
       "Name: Predicted CTC, dtype: float64"
      ]
     },
     "execution_count": 28,
     "metadata": {},
     "output_type": "execute_result"
    }
   ],
   "source": [
    "# Here are the predicted values\n",
    "test_data['Predicted CTC']=MLR_model.predict(val_data)\n",
    "test_data['Predicted CTC'].head()"
   ]
  },
  {
   "cell_type": "markdown",
   "id": "d47b1995",
   "metadata": {},
   "source": [
    "### Calculating the errors and RMSE values"
   ]
  },
  {
   "cell_type": "code",
   "execution_count": 29,
   "id": "974f38d4",
   "metadata": {},
   "outputs": [
    {
     "data": {
      "text/plain": [
       "0   -14577.661934\n",
       "1     2280.331221\n",
       "2     6945.601467\n",
       "3    14860.722840\n",
       "4     3174.057745\n",
       "dtype: float64"
      ]
     },
     "execution_count": 29,
     "metadata": {},
     "output_type": "execute_result"
    }
   ],
   "source": [
    "error=test_data['CTC']-test_data['Predicted CTC']\n",
    "error.head()"
   ]
  },
  {
   "cell_type": "code",
   "execution_count": 30,
   "id": "98b86617",
   "metadata": {},
   "outputs": [
    {
     "data": {
      "text/plain": [
       "<AxesSubplot:ylabel='Density'>"
      ]
     },
     "execution_count": 30,
     "metadata": {},
     "output_type": "execute_result"
    },
    {
     "data": {
      "image/png": "[encoded data removed]",
      "text/plain": [
       "<Figure size 432x288 with 1 Axes>"
      ]
     },
     "metadata": {
      "needs_background": "light"
     },
     "output_type": "display_data"
    }
   ],
   "source": [
    "sns.distplot(error)"
   ]
  },
  {
   "cell_type": "code",
   "execution_count": 31,
   "id": "254eaf10",
   "metadata": {},
   "outputs": [
    {
     "data": {
      "text/plain": [
       "0.4986355024911615"
      ]
     },
     "execution_count": 31,
     "metadata": {},
     "output_type": "execute_result"
    }
   ],
   "source": [
    "error.skew()"
   ]
  },
  {
   "cell_type": "code",
   "execution_count": 38,
   "id": "1afe3e1a",
   "metadata": {},
   "outputs": [
    {
     "name": "stdout",
     "output_type": "stream",
     "text": [
      "The RMSE value is: 7856.719136324669\n"
     ]
    }
   ],
   "source": [
    "sqr_error=(error)**2\n",
    "MSR=sqr_error.mean()\n",
    "RMSE=math.sqrt(MSR)\n",
    "print(\"The RMSE value is:\",RMSE)"
   ]
  },
  {
   "cell_type": "markdown",
   "id": "4ec8a5d5",
   "metadata": {},
   "source": [
    "### As we get the RMSE value, lets go ahead and get the range of predicted CTC"
   ]
  },
  {
   "cell_type": "code",
   "execution_count": 33,
   "id": "023c625b",
   "metadata": {},
   "outputs": [
    {
     "data": {
      "text/html": [
       "<div>\n",
       "<style scoped>\n",
       "    .dataframe tbody tr th:only-of-type {\n",
       "        vertical-align: middle;\n",
       "    }\n",
       "\n",
       "    .dataframe tbody tr th {\n",
       "        vertical-align: top;\n",
       "    }\n",
       "\n",
       "    .dataframe thead th {\n",
       "        text-align: right;\n",
       "    }\n",
       "</style>\n",
       "<table border=\"1\" class=\"dataframe\">\n",
       "  <thead>\n",
       "    <tr style=\"text-align: right;\">\n",
       "      <th></th>\n",
       "      <th>Previous CTC</th>\n",
       "      <th>Previous job changes</th>\n",
       "      <th>Graduation marks</th>\n",
       "      <th>Exp (Months)</th>\n",
       "      <th>CTC</th>\n",
       "      <th>College_Tier 1</th>\n",
       "      <th>College_Tier 2</th>\n",
       "      <th>Role_Manager</th>\n",
       "      <th>City type_Metro</th>\n",
       "      <th>Predicted CTC</th>\n",
       "      <th>Predicted Upper Range</th>\n",
       "      <th>Predicted Lower Range</th>\n",
       "    </tr>\n",
       "  </thead>\n",
       "  <tbody>\n",
       "    <tr>\n",
       "      <th>0</th>\n",
       "      <td>55523</td>\n",
       "      <td>3</td>\n",
       "      <td>66</td>\n",
       "      <td>19</td>\n",
       "      <td>71406.576531</td>\n",
       "      <td>1</td>\n",
       "      <td>0</td>\n",
       "      <td>1</td>\n",
       "      <td>0</td>\n",
       "      <td>85984.238465</td>\n",
       "      <td>93840.957601</td>\n",
       "      <td>78127.519328</td>\n",
       "    </tr>\n",
       "    <tr>\n",
       "      <th>1</th>\n",
       "      <td>57081</td>\n",
       "      <td>1</td>\n",
       "      <td>84</td>\n",
       "      <td>18</td>\n",
       "      <td>68005.870631</td>\n",
       "      <td>0</td>\n",
       "      <td>1</td>\n",
       "      <td>0</td>\n",
       "      <td>1</td>\n",
       "      <td>65725.539410</td>\n",
       "      <td>73582.258546</td>\n",
       "      <td>57868.820273</td>\n",
       "    </tr>\n",
       "    <tr>\n",
       "      <th>2</th>\n",
       "      <td>60347</td>\n",
       "      <td>2</td>\n",
       "      <td>52</td>\n",
       "      <td>28</td>\n",
       "      <td>76764.020277</td>\n",
       "      <td>0</td>\n",
       "      <td>1</td>\n",
       "      <td>0</td>\n",
       "      <td>1</td>\n",
       "      <td>69818.418810</td>\n",
       "      <td>77675.137946</td>\n",
       "      <td>61961.699673</td>\n",
       "    </tr>\n",
       "    <tr>\n",
       "      <th>3</th>\n",
       "      <td>49010</td>\n",
       "      <td>2</td>\n",
       "      <td>81</td>\n",
       "      <td>33</td>\n",
       "      <td>82092.386880</td>\n",
       "      <td>0</td>\n",
       "      <td>0</td>\n",
       "      <td>0</td>\n",
       "      <td>1</td>\n",
       "      <td>67231.664040</td>\n",
       "      <td>75088.383176</td>\n",
       "      <td>59374.944903</td>\n",
       "    </tr>\n",
       "    <tr>\n",
       "      <th>4</th>\n",
       "      <td>57879</td>\n",
       "      <td>4</td>\n",
       "      <td>74</td>\n",
       "      <td>32</td>\n",
       "      <td>73878.097729</td>\n",
       "      <td>0</td>\n",
       "      <td>0</td>\n",
       "      <td>0</td>\n",
       "      <td>1</td>\n",
       "      <td>70704.039984</td>\n",
       "      <td>78560.759121</td>\n",
       "      <td>62847.320848</td>\n",
       "    </tr>\n",
       "  </tbody>\n",
       "</table>\n",
       "</div>"
      ],
      "text/plain": [
       "   Previous CTC  Previous job changes  Graduation marks  Exp (Months)  \\\n",
       "0         55523                     3                66            19   \n",
       "1         57081                     1                84            18   \n",
       "2         60347                     2                52            28   \n",
       "3         49010                     2                81            33   \n",
       "4         57879                     4                74            32   \n",
       "\n",
       "            CTC  College_Tier 1  College_Tier 2  Role_Manager  \\\n",
       "0  71406.576531               1               0             1   \n",
       "1  68005.870631               0               1             0   \n",
       "2  76764.020277               0               1             0   \n",
       "3  82092.386880               0               0             0   \n",
       "4  73878.097729               0               0             0   \n",
       "\n",
       "   City type_Metro  Predicted CTC  Predicted Upper Range  \\\n",
       "0                0   85984.238465           93840.957601   \n",
       "1                1   65725.539410           73582.258546   \n",
       "2                1   69818.418810           77675.137946   \n",
       "3                1   67231.664040           75088.383176   \n",
       "4                1   70704.039984           78560.759121   \n",
       "\n",
       "   Predicted Lower Range  \n",
       "0           78127.519328  \n",
       "1           57868.820273  \n",
       "2           61961.699673  \n",
       "3           59374.944903  \n",
       "4           62847.320848  "
      ]
     },
     "execution_count": 33,
     "metadata": {},
     "output_type": "execute_result"
    }
   ],
   "source": [
    "test_data['Predicted Upper Range']=test_data['Predicted CTC']+RMSE\n",
    "test_data['Predicted Lower Range']=test_data['Predicted CTC']-RMSE\n",
    "test_data.head()"
   ]
  },
  {
   "cell_type": "markdown",
   "id": "cb47888a",
   "metadata": {},
   "source": [
    "### - Here, we can say that the predicted range of CTC could be offered as above"
   ]
  },
  {
   "cell_type": "code",
   "execution_count": null,
   "id": "263b8002",
   "metadata": {},
   "outputs": [],
   "source": []
  }
 ],
 "metadata": {
  "kernelspec": {
   "display_name": "Python 3 (ipykernel)",
   "language": "python",
   "name": "python3"
  },
  "language_info": {
   "codemirror_mode": {
    "name": "ipython",
    "version": 3
   },
   "file_extension": ".py",
   "mimetype": "text/x-python",
   "name": "python",
   "nbconvert_exporter": "python",
   "pygments_lexer": "ipython3",
   "version": "3.8.8"
  }
 },
 "nbformat": 4,
 "nbformat_minor": 5
}
