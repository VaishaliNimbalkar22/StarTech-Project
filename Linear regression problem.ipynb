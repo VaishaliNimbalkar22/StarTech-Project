{
 "cells": [
  {
   "cell_type": "markdown",
   "id": "4d10a15a",
   "metadata": {},
   "source": [
    "## Create a linear regression model in Python to predict the CTC/Salary of new hires from the data provided"
   ]
  },
  {
   "cell_type": "code",
   "execution_count": 1,
   "id": "1ff5836e",
   "metadata": {},
   "outputs": [],
   "source": [
    "import numpy as np\n",
    "import pandas as pd\n",
    "import seaborn as sns\n",
    "import warnings\n",
    "warnings.filterwarnings('ignore')\n",
    "import math"
   ]
  },
  {
   "cell_type": "code",
   "execution_count": 2,
   "id": "1c3d3447",
   "metadata": {},
   "outputs": [
    {
     "data": {
      "text/html": [
       "<div>\n",
       "<style scoped>\n",
       "    .dataframe tbody tr th:only-of-type {\n",
       "        vertical-align: middle;\n",
       "    }\n",
       "\n",
       "    .dataframe tbody tr th {\n",
       "        vertical-align: top;\n",
       "    }\n",
       "\n",
       "    .dataframe thead th {\n",
       "        text-align: right;\n",
       "    }\n",
       "</style>\n",
       "<table border=\"1\" class=\"dataframe\">\n",
       "  <thead>\n",
       "    <tr style=\"text-align: right;\">\n",
       "      <th></th>\n",
       "      <th>S.No.</th>\n",
       "      <th>College</th>\n",
       "      <th>Role</th>\n",
       "      <th>City type</th>\n",
       "      <th>Previous CTC</th>\n",
       "      <th>Previous job changes</th>\n",
       "      <th>Graduation marks</th>\n",
       "      <th>Exp (Months)</th>\n",
       "      <th>CTC</th>\n",
       "    </tr>\n",
       "  </thead>\n",
       "  <tbody>\n",
       "    <tr>\n",
       "      <th>0</th>\n",
       "      <td>1</td>\n",
       "      <td>Tier 1</td>\n",
       "      <td>Manager</td>\n",
       "      <td>Non-Metro</td>\n",
       "      <td>55523</td>\n",
       "      <td>3</td>\n",
       "      <td>66</td>\n",
       "      <td>19</td>\n",
       "      <td>71406.576531</td>\n",
       "    </tr>\n",
       "    <tr>\n",
       "      <th>1</th>\n",
       "      <td>2</td>\n",
       "      <td>Tier 2</td>\n",
       "      <td>Executive</td>\n",
       "      <td>Metro</td>\n",
       "      <td>57081</td>\n",
       "      <td>1</td>\n",
       "      <td>84</td>\n",
       "      <td>18</td>\n",
       "      <td>68005.870631</td>\n",
       "    </tr>\n",
       "    <tr>\n",
       "      <th>2</th>\n",
       "      <td>3</td>\n",
       "      <td>Tier 2</td>\n",
       "      <td>Executive</td>\n",
       "      <td>Metro</td>\n",
       "      <td>60347</td>\n",
       "      <td>2</td>\n",
       "      <td>52</td>\n",
       "      <td>28</td>\n",
       "      <td>76764.020277</td>\n",
       "    </tr>\n",
       "    <tr>\n",
       "      <th>3</th>\n",
       "      <td>4</td>\n",
       "      <td>Tier 3</td>\n",
       "      <td>Executive</td>\n",
       "      <td>Metro</td>\n",
       "      <td>49010</td>\n",
       "      <td>2</td>\n",
       "      <td>81</td>\n",
       "      <td>33</td>\n",
       "      <td>82092.386880</td>\n",
       "    </tr>\n",
       "    <tr>\n",
       "      <th>4</th>\n",
       "      <td>5</td>\n",
       "      <td>Tier 3</td>\n",
       "      <td>Executive</td>\n",
       "      <td>Metro</td>\n",
       "      <td>57879</td>\n",
       "      <td>4</td>\n",
       "      <td>74</td>\n",
       "      <td>32</td>\n",
       "      <td>73878.097729</td>\n",
       "    </tr>\n",
       "  </tbody>\n",
       "</table>\n",
       "</div>"
      ],
      "text/plain": [
       "   S.No. College       Role  City type  Previous CTC  Previous job changes  \\\n",
       "0      1  Tier 1    Manager  Non-Metro         55523                     3   \n",
       "1      2  Tier 2  Executive      Metro         57081                     1   \n",
       "2      3  Tier 2  Executive      Metro         60347                     2   \n",
       "3      4  Tier 3  Executive      Metro         49010                     2   \n",
       "4      5  Tier 3  Executive      Metro         57879                     4   \n",
       "\n",
       "   Graduation marks  Exp (Months)           CTC  \n",
       "0                66            19  71406.576531  \n",
       "1                84            18  68005.870631  \n",
       "2                52            28  76764.020277  \n",
       "3                81            33  82092.386880  \n",
       "4                74            32  73878.097729  "
      ]
     },
     "execution_count": 2,
     "metadata": {},
     "output_type": "execute_result"
    }
   ],
   "source": [
    "# Extracting the training data\n",
    "data=pd.read_excel(\"Data_file.xlsx\")\n",
    "data.head()"
   ]
  },
  {
   "cell_type": "code",
   "execution_count": 3,
   "id": "cc7041bf",
   "metadata": {},
   "outputs": [],
   "source": [
    "# dropping unwanted colums\n",
    "data=data.drop(['S.No.'], axis = 1)"
   ]
  },
  {
   "cell_type": "code",
   "execution_count": 4,
   "id": "d2d6cd88",
   "metadata": {},
   "outputs": [
    {
     "data": {
      "text/html": [
       "<div>\n",
       "<style scoped>\n",
       "    .dataframe tbody tr th:only-of-type {\n",
       "        vertical-align: middle;\n",
       "    }\n",
       "\n",
       "    .dataframe tbody tr th {\n",
       "        vertical-align: top;\n",
       "    }\n",
       "\n",
       "    .dataframe thead th {\n",
       "        text-align: right;\n",
       "    }\n",
       "</style>\n",
       "<table border=\"1\" class=\"dataframe\">\n",
       "  <thead>\n",
       "    <tr style=\"text-align: right;\">\n",
       "      <th></th>\n",
       "      <th>College</th>\n",
       "      <th>Role</th>\n",
       "      <th>City type</th>\n",
       "      <th>Previous CTC</th>\n",
       "      <th>Previous job changes</th>\n",
       "      <th>Graduation marks</th>\n",
       "      <th>Exp (Months)</th>\n",
       "      <th>CTC</th>\n",
       "    </tr>\n",
       "  </thead>\n",
       "  <tbody>\n",
       "    <tr>\n",
       "      <th>0</th>\n",
       "      <td>Tier 1</td>\n",
       "      <td>Manager</td>\n",
       "      <td>Non-Metro</td>\n",
       "      <td>55523</td>\n",
       "      <td>3</td>\n",
       "      <td>66</td>\n",
       "      <td>19</td>\n",
       "      <td>71406.576531</td>\n",
       "    </tr>\n",
       "    <tr>\n",
       "      <th>1</th>\n",
       "      <td>Tier 2</td>\n",
       "      <td>Executive</td>\n",
       "      <td>Metro</td>\n",
       "      <td>57081</td>\n",
       "      <td>1</td>\n",
       "      <td>84</td>\n",
       "      <td>18</td>\n",
       "      <td>68005.870631</td>\n",
       "    </tr>\n",
       "    <tr>\n",
       "      <th>2</th>\n",
       "      <td>Tier 2</td>\n",
       "      <td>Executive</td>\n",
       "      <td>Metro</td>\n",
       "      <td>60347</td>\n",
       "      <td>2</td>\n",
       "      <td>52</td>\n",
       "      <td>28</td>\n",
       "      <td>76764.020277</td>\n",
       "    </tr>\n",
       "    <tr>\n",
       "      <th>3</th>\n",
       "      <td>Tier 3</td>\n",
       "      <td>Executive</td>\n",
       "      <td>Metro</td>\n",
       "      <td>49010</td>\n",
       "      <td>2</td>\n",
       "      <td>81</td>\n",
       "      <td>33</td>\n",
       "      <td>82092.386880</td>\n",
       "    </tr>\n",
       "    <tr>\n",
       "      <th>4</th>\n",
       "      <td>Tier 3</td>\n",
       "      <td>Executive</td>\n",
       "      <td>Metro</td>\n",
       "      <td>57879</td>\n",
       "      <td>4</td>\n",
       "      <td>74</td>\n",
       "      <td>32</td>\n",
       "      <td>73878.097729</td>\n",
       "    </tr>\n",
       "  </tbody>\n",
       "</table>\n",
       "</div>"
      ],
      "text/plain": [
       "  College       Role  City type  Previous CTC  Previous job changes  \\\n",
       "0  Tier 1    Manager  Non-Metro         55523                     3   \n",
       "1  Tier 2  Executive      Metro         57081                     1   \n",
       "2  Tier 2  Executive      Metro         60347                     2   \n",
       "3  Tier 3  Executive      Metro         49010                     2   \n",
       "4  Tier 3  Executive      Metro         57879                     4   \n",
       "\n",
       "   Graduation marks  Exp (Months)           CTC  \n",
       "0                66            19  71406.576531  \n",
       "1                84            18  68005.870631  \n",
       "2                52            28  76764.020277  \n",
       "3                81            33  82092.386880  \n",
       "4                74            32  73878.097729  "
      ]
     },
     "execution_count": 4,
     "metadata": {},
     "output_type": "execute_result"
    }
   ],
   "source": [
    "data.head()"
   ]
  },
  {
   "cell_type": "markdown",
   "id": "2339085f",
   "metadata": {},
   "source": [
    "## - Performing EDA"
   ]
  },
  {
   "cell_type": "code",
   "execution_count": 5,
   "id": "7df181d3",
   "metadata": {},
   "outputs": [
    {
     "name": "stdout",
     "output_type": "stream",
     "text": [
      "<class 'pandas.core.frame.DataFrame'>\n",
      "RangeIndex: 1338 entries, 0 to 1337\n",
      "Data columns (total 8 columns):\n",
      " #   Column                Non-Null Count  Dtype  \n",
      "---  ------                --------------  -----  \n",
      " 0   College               1338 non-null   object \n",
      " 1   Role                  1338 non-null   object \n",
      " 2   City type             1338 non-null   object \n",
      " 3   Previous CTC          1338 non-null   int64  \n",
      " 4   Previous job changes  1338 non-null   int64  \n",
      " 5   Graduation marks      1338 non-null   int64  \n",
      " 6   Exp (Months)          1338 non-null   int64  \n",
      " 7   CTC                   1338 non-null   float64\n",
      "dtypes: float64(1), int64(4), object(3)\n",
      "memory usage: 83.8+ KB\n"
     ]
    }
   ],
   "source": [
    "data.info()"
   ]
  },
  {
   "cell_type": "code",
   "execution_count": 6,
   "id": "f0e4fbb8",
   "metadata": {},
   "outputs": [
    {
     "data": {
      "text/html": [
       "<div>\n",
       "<style scoped>\n",
       "    .dataframe tbody tr th:only-of-type {\n",
       "        vertical-align: middle;\n",
       "    }\n",
       "\n",
       "    .dataframe tbody tr th {\n",
       "        vertical-align: top;\n",
       "    }\n",
       "\n",
       "    .dataframe thead th {\n",
       "        text-align: right;\n",
       "    }\n",
       "</style>\n",
       "<table border=\"1\" class=\"dataframe\">\n",
       "  <thead>\n",
       "    <tr style=\"text-align: right;\">\n",
       "      <th></th>\n",
       "      <th>Previous CTC</th>\n",
       "      <th>Previous job changes</th>\n",
       "      <th>Graduation marks</th>\n",
       "      <th>Exp (Months)</th>\n",
       "      <th>CTC</th>\n",
       "    </tr>\n",
       "  </thead>\n",
       "  <tbody>\n",
       "    <tr>\n",
       "      <th>count</th>\n",
       "      <td>1338.000000</td>\n",
       "      <td>1338.000000</td>\n",
       "      <td>1338.000000</td>\n",
       "      <td>1338.000000</td>\n",
       "      <td>1338.000000</td>\n",
       "    </tr>\n",
       "    <tr>\n",
       "      <th>mean</th>\n",
       "      <td>55581.762332</td>\n",
       "      <td>2.525411</td>\n",
       "      <td>59.890882</td>\n",
       "      <td>39.207025</td>\n",
       "      <td>75459.338993</td>\n",
       "    </tr>\n",
       "    <tr>\n",
       "      <th>std</th>\n",
       "      <td>6685.600553</td>\n",
       "      <td>1.123502</td>\n",
       "      <td>14.894696</td>\n",
       "      <td>14.049960</td>\n",
       "      <td>12551.280263</td>\n",
       "    </tr>\n",
       "    <tr>\n",
       "      <th>min</th>\n",
       "      <td>36990.000000</td>\n",
       "      <td>1.000000</td>\n",
       "      <td>35.000000</td>\n",
       "      <td>18.000000</td>\n",
       "      <td>53020.319026</td>\n",
       "    </tr>\n",
       "    <tr>\n",
       "      <th>25%</th>\n",
       "      <td>50547.000000</td>\n",
       "      <td>2.000000</td>\n",
       "      <td>47.000000</td>\n",
       "      <td>27.000000</td>\n",
       "      <td>66905.070033</td>\n",
       "    </tr>\n",
       "    <tr>\n",
       "      <th>50%</th>\n",
       "      <td>55293.500000</td>\n",
       "      <td>3.000000</td>\n",
       "      <td>60.000000</td>\n",
       "      <td>39.000000</td>\n",
       "      <td>73112.640487</td>\n",
       "    </tr>\n",
       "    <tr>\n",
       "      <th>75%</th>\n",
       "      <td>60150.500000</td>\n",
       "      <td>4.000000</td>\n",
       "      <td>73.000000</td>\n",
       "      <td>51.000000</td>\n",
       "      <td>80747.178420</td>\n",
       "    </tr>\n",
       "    <tr>\n",
       "      <th>max</th>\n",
       "      <td>77911.000000</td>\n",
       "      <td>4.000000</td>\n",
       "      <td>85.000000</td>\n",
       "      <td>64.000000</td>\n",
       "      <td>123416.994271</td>\n",
       "    </tr>\n",
       "  </tbody>\n",
       "</table>\n",
       "</div>"
      ],
      "text/plain": [
       "       Previous CTC  Previous job changes  Graduation marks  Exp (Months)  \\\n",
       "count   1338.000000           1338.000000       1338.000000   1338.000000   \n",
       "mean   55581.762332              2.525411         59.890882     39.207025   \n",
       "std     6685.600553              1.123502         14.894696     14.049960   \n",
       "min    36990.000000              1.000000         35.000000     18.000000   \n",
       "25%    50547.000000              2.000000         47.000000     27.000000   \n",
       "50%    55293.500000              3.000000         60.000000     39.000000   \n",
       "75%    60150.500000              4.000000         73.000000     51.000000   \n",
       "max    77911.000000              4.000000         85.000000     64.000000   \n",
       "\n",
       "                 CTC  \n",
       "count    1338.000000  \n",
       "mean    75459.338993  \n",
       "std     12551.280263  \n",
       "min     53020.319026  \n",
       "25%     66905.070033  \n",
       "50%     73112.640487  \n",
       "75%     80747.178420  \n",
       "max    123416.994271  "
      ]
     },
     "execution_count": 6,
     "metadata": {},
     "output_type": "execute_result"
    }
   ],
   "source": [
    "data.describe()"
   ]
  },
  {
   "cell_type": "markdown",
   "id": "3d82a8c4",
   "metadata": {},
   "source": [
    "### - Checking for missing values"
   ]
  },
  {
   "cell_type": "code",
   "execution_count": 7,
   "id": "a63667f3",
   "metadata": {
    "scrolled": true
   },
   "outputs": [
    {
     "data": {
      "text/plain": [
       "College                 0\n",
       "Role                    0\n",
       "City type               0\n",
       "Previous CTC            0\n",
       "Previous job changes    0\n",
       "Graduation marks        0\n",
       "Exp (Months)            0\n",
       "CTC                     0\n",
       "dtype: int64"
      ]
     },
     "execution_count": 7,
     "metadata": {},
     "output_type": "execute_result"
    }
   ],
   "source": [
    "data.isnull().sum()"
   ]
  },
  {
   "cell_type": "markdown",
   "id": "565a246f",
   "metadata": {},
   "source": [
    "- Here, we can see that there are no missing values in the data set"
   ]
  },
  {
   "cell_type": "markdown",
   "id": "cc9bc070",
   "metadata": {},
   "source": [
    "### Lets go ahead and check the correlation between the variables"
   ]
  },
  {
   "cell_type": "markdown",
   "id": "c03e6e32",
   "metadata": {},
   "source": [
    "### We have 3 categorical variables in the data\n",
    "        - College\n",
    "        - Role\n",
    "        - City type\n",
    "     We need to convert them into numeric.\n",
    "     Also, the variables are ordinal. Hence, we will use the map() function."
   ]
  },
  {
   "cell_type": "markdown",
   "id": "aaaf4bea",
   "metadata": {},
   "source": [
    "\n"
   ]
  },
  {
   "cell_type": "code",
   "execution_count": 8,
   "id": "a9efece4",
   "metadata": {},
   "outputs": [],
   "source": [
    "data['College'].unique()\n",
    "data['College']=data['College'].map({'Tier 1':2,'Tier 2':1,'Tier 3':0})"
   ]
  },
  {
   "cell_type": "code",
   "execution_count": 9,
   "id": "c8013387",
   "metadata": {},
   "outputs": [],
   "source": [
    "data['Role'].unique()\n",
    "data['Role']=data['Role'].map({'Manager':1,'Executive':0})"
   ]
  },
  {
   "cell_type": "code",
   "execution_count": 10,
   "id": "3fdfc3dd",
   "metadata": {},
   "outputs": [],
   "source": [
    "data['City type'].unique()\n",
    "data['City type']=data['City type'].map({'Metro':1,'Non-Metro':0})"
   ]
  },
  {
   "cell_type": "code",
   "execution_count": 11,
   "id": "75cc7e38",
   "metadata": {},
   "outputs": [
    {
     "data": {
      "text/html": [
       "<div>\n",
       "<style scoped>\n",
       "    .dataframe tbody tr th:only-of-type {\n",
       "        vertical-align: middle;\n",
       "    }\n",
       "\n",
       "    .dataframe tbody tr th {\n",
       "        vertical-align: top;\n",
       "    }\n",
       "\n",
       "    .dataframe thead th {\n",
       "        text-align: right;\n",
       "    }\n",
       "</style>\n",
       "<table border=\"1\" class=\"dataframe\">\n",
       "  <thead>\n",
       "    <tr style=\"text-align: right;\">\n",
       "      <th></th>\n",
       "      <th>College</th>\n",
       "      <th>Role</th>\n",
       "      <th>City type</th>\n",
       "      <th>Previous CTC</th>\n",
       "      <th>Previous job changes</th>\n",
       "      <th>Graduation marks</th>\n",
       "      <th>Exp (Months)</th>\n",
       "      <th>CTC</th>\n",
       "    </tr>\n",
       "  </thead>\n",
       "  <tbody>\n",
       "    <tr>\n",
       "      <th>0</th>\n",
       "      <td>2</td>\n",
       "      <td>1</td>\n",
       "      <td>0</td>\n",
       "      <td>55523</td>\n",
       "      <td>3</td>\n",
       "      <td>66</td>\n",
       "      <td>19</td>\n",
       "      <td>71406.576531</td>\n",
       "    </tr>\n",
       "    <tr>\n",
       "      <th>1</th>\n",
       "      <td>1</td>\n",
       "      <td>0</td>\n",
       "      <td>1</td>\n",
       "      <td>57081</td>\n",
       "      <td>1</td>\n",
       "      <td>84</td>\n",
       "      <td>18</td>\n",
       "      <td>68005.870631</td>\n",
       "    </tr>\n",
       "    <tr>\n",
       "      <th>2</th>\n",
       "      <td>1</td>\n",
       "      <td>0</td>\n",
       "      <td>1</td>\n",
       "      <td>60347</td>\n",
       "      <td>2</td>\n",
       "      <td>52</td>\n",
       "      <td>28</td>\n",
       "      <td>76764.020277</td>\n",
       "    </tr>\n",
       "    <tr>\n",
       "      <th>3</th>\n",
       "      <td>0</td>\n",
       "      <td>0</td>\n",
       "      <td>1</td>\n",
       "      <td>49010</td>\n",
       "      <td>2</td>\n",
       "      <td>81</td>\n",
       "      <td>33</td>\n",
       "      <td>82092.386880</td>\n",
       "    </tr>\n",
       "    <tr>\n",
       "      <th>4</th>\n",
       "      <td>0</td>\n",
       "      <td>0</td>\n",
       "      <td>1</td>\n",
       "      <td>57879</td>\n",
       "      <td>4</td>\n",
       "      <td>74</td>\n",
       "      <td>32</td>\n",
       "      <td>73878.097729</td>\n",
       "    </tr>\n",
       "  </tbody>\n",
       "</table>\n",
       "</div>"
      ],
      "text/plain": [
       "   College  Role  City type  Previous CTC  Previous job changes  \\\n",
       "0        2     1          0         55523                     3   \n",
       "1        1     0          1         57081                     1   \n",
       "2        1     0          1         60347                     2   \n",
       "3        0     0          1         49010                     2   \n",
       "4        0     0          1         57879                     4   \n",
       "\n",
       "   Graduation marks  Exp (Months)           CTC  \n",
       "0                66            19  71406.576531  \n",
       "1                84            18  68005.870631  \n",
       "2                52            28  76764.020277  \n",
       "3                81            33  82092.386880  \n",
       "4                74            32  73878.097729  "
      ]
     },
     "execution_count": 11,
     "metadata": {},
     "output_type": "execute_result"
    }
   ],
   "source": [
    "data.head()"
   ]
  },
  {
   "cell_type": "code",
   "execution_count": 12,
   "id": "f5afcabb",
   "metadata": {},
   "outputs": [
    {
     "data": {
      "text/html": [
       "<div>\n",
       "<style scoped>\n",
       "    .dataframe tbody tr th:only-of-type {\n",
       "        vertical-align: middle;\n",
       "    }\n",
       "\n",
       "    .dataframe tbody tr th {\n",
       "        vertical-align: top;\n",
       "    }\n",
       "\n",
       "    .dataframe thead th {\n",
       "        text-align: right;\n",
       "    }\n",
       "</style>\n",
       "<table border=\"1\" class=\"dataframe\">\n",
       "  <thead>\n",
       "    <tr style=\"text-align: right;\">\n",
       "      <th></th>\n",
       "      <th>College</th>\n",
       "      <th>Role</th>\n",
       "      <th>City type</th>\n",
       "      <th>Previous CTC</th>\n",
       "      <th>Previous job changes</th>\n",
       "      <th>Graduation marks</th>\n",
       "      <th>Exp (Months)</th>\n",
       "      <th>CTC</th>\n",
       "    </tr>\n",
       "  </thead>\n",
       "  <tbody>\n",
       "    <tr>\n",
       "      <th>College</th>\n",
       "      <td>1.000000</td>\n",
       "      <td>0.001472</td>\n",
       "      <td>0.002384</td>\n",
       "      <td>0.016259</td>\n",
       "      <td>0.050243</td>\n",
       "      <td>0.024994</td>\n",
       "      <td>0.006760</td>\n",
       "      <td>0.179152</td>\n",
       "    </tr>\n",
       "    <tr>\n",
       "      <th>Role</th>\n",
       "      <td>0.001472</td>\n",
       "      <td>1.000000</td>\n",
       "      <td>0.076185</td>\n",
       "      <td>0.021208</td>\n",
       "      <td>-0.013131</td>\n",
       "      <td>0.014541</td>\n",
       "      <td>-0.025019</td>\n",
       "      <td>0.625435</td>\n",
       "    </tr>\n",
       "    <tr>\n",
       "      <th>City type</th>\n",
       "      <td>0.002384</td>\n",
       "      <td>0.076185</td>\n",
       "      <td>1.000000</td>\n",
       "      <td>0.036956</td>\n",
       "      <td>-0.001568</td>\n",
       "      <td>0.018550</td>\n",
       "      <td>-0.020856</td>\n",
       "      <td>0.211258</td>\n",
       "    </tr>\n",
       "    <tr>\n",
       "      <th>Previous CTC</th>\n",
       "      <td>0.016259</td>\n",
       "      <td>0.021208</td>\n",
       "      <td>0.036956</td>\n",
       "      <td>1.000000</td>\n",
       "      <td>0.008282</td>\n",
       "      <td>-0.037170</td>\n",
       "      <td>0.117035</td>\n",
       "      <td>0.270260</td>\n",
       "    </tr>\n",
       "    <tr>\n",
       "      <th>Previous job changes</th>\n",
       "      <td>0.050243</td>\n",
       "      <td>-0.013131</td>\n",
       "      <td>-0.001568</td>\n",
       "      <td>0.008282</td>\n",
       "      <td>1.000000</td>\n",
       "      <td>0.001507</td>\n",
       "      <td>0.034137</td>\n",
       "      <td>0.007518</td>\n",
       "    </tr>\n",
       "    <tr>\n",
       "      <th>Graduation marks</th>\n",
       "      <td>0.024994</td>\n",
       "      <td>0.014541</td>\n",
       "      <td>0.018550</td>\n",
       "      <td>-0.037170</td>\n",
       "      <td>0.001507</td>\n",
       "      <td>1.000000</td>\n",
       "      <td>-0.065412</td>\n",
       "      <td>-0.017557</td>\n",
       "    </tr>\n",
       "    <tr>\n",
       "      <th>Exp (Months)</th>\n",
       "      <td>0.006760</td>\n",
       "      <td>-0.025019</td>\n",
       "      <td>-0.020856</td>\n",
       "      <td>0.117035</td>\n",
       "      <td>0.034137</td>\n",
       "      <td>-0.065412</td>\n",
       "      <td>1.000000</td>\n",
       "      <td>0.301569</td>\n",
       "    </tr>\n",
       "    <tr>\n",
       "      <th>CTC</th>\n",
       "      <td>0.179152</td>\n",
       "      <td>0.625435</td>\n",
       "      <td>0.211258</td>\n",
       "      <td>0.270260</td>\n",
       "      <td>0.007518</td>\n",
       "      <td>-0.017557</td>\n",
       "      <td>0.301569</td>\n",
       "      <td>1.000000</td>\n",
       "    </tr>\n",
       "  </tbody>\n",
       "</table>\n",
       "</div>"
      ],
      "text/plain": [
       "                       College      Role  City type  Previous CTC  \\\n",
       "College               1.000000  0.001472   0.002384      0.016259   \n",
       "Role                  0.001472  1.000000   0.076185      0.021208   \n",
       "City type             0.002384  0.076185   1.000000      0.036956   \n",
       "Previous CTC          0.016259  0.021208   0.036956      1.000000   \n",
       "Previous job changes  0.050243 -0.013131  -0.001568      0.008282   \n",
       "Graduation marks      0.024994  0.014541   0.018550     -0.037170   \n",
       "Exp (Months)          0.006760 -0.025019  -0.020856      0.117035   \n",
       "CTC                   0.179152  0.625435   0.211258      0.270260   \n",
       "\n",
       "                      Previous job changes  Graduation marks  Exp (Months)  \\\n",
       "College                           0.050243          0.024994      0.006760   \n",
       "Role                             -0.013131          0.014541     -0.025019   \n",
       "City type                        -0.001568          0.018550     -0.020856   \n",
       "Previous CTC                      0.008282         -0.037170      0.117035   \n",
       "Previous job changes              1.000000          0.001507      0.034137   \n",
       "Graduation marks                  0.001507          1.000000     -0.065412   \n",
       "Exp (Months)                      0.034137         -0.065412      1.000000   \n",
       "CTC                               0.007518         -0.017557      0.301569   \n",
       "\n",
       "                           CTC  \n",
       "College               0.179152  \n",
       "Role                  0.625435  \n",
       "City type             0.211258  \n",
       "Previous CTC          0.270260  \n",
       "Previous job changes  0.007518  \n",
       "Graduation marks     -0.017557  \n",
       "Exp (Months)          0.301569  \n",
       "CTC                   1.000000  "
      ]
     },
     "execution_count": 12,
     "metadata": {},
     "output_type": "execute_result"
    }
   ],
   "source": [
    "data.corr()"
   ]
  },
  {
   "cell_type": "markdown",
   "id": "e47196fd",
   "metadata": {},
   "source": [
    "- Here, we can oberve that 'CTC' is positively correlated with most of the variables\n",
    "- Thus, the change in these variables makes a significant change in 'CTC'"
   ]
  },
  {
   "cell_type": "markdown",
   "id": "776ba822",
   "metadata": {},
   "source": [
    "### lets create target and dependent variables"
   ]
  },
  {
   "cell_type": "code",
   "execution_count": 13,
   "id": "bad76a93",
   "metadata": {},
   "outputs": [],
   "source": [
    "y=data[['CTC']]\n",
    "x=data.drop(columns='CTC')"
   ]
  },
  {
   "cell_type": "markdown",
   "id": "af2f1cc9",
   "metadata": {},
   "source": [
    "### Splitting the data into train and test"
   ]
  },
  {
   "cell_type": "code",
   "execution_count": 14,
   "id": "0492727e",
   "metadata": {},
   "outputs": [
    {
     "data": {
      "text/plain": [
       "(1003, 335, 1003, 335)"
      ]
     },
     "execution_count": 14,
     "metadata": {},
     "output_type": "execute_result"
    }
   ],
   "source": [
    "from sklearn.model_selection import train_test_split\n",
    "x_train,x_test,y_train,y_test=train_test_split(x,y,train_size=0.75,random_state=111)\n",
    "len(x_train),len(x_test),len(y_train),len(y_test)"
   ]
  },
  {
   "cell_type": "markdown",
   "id": "d928d482",
   "metadata": {},
   "source": [
    "### creating linear model"
   ]
  },
  {
   "cell_type": "code",
   "execution_count": 15,
   "id": "d0b0c027",
   "metadata": {},
   "outputs": [
    {
     "data": {
      "text/plain": [
       "LinearRegression()"
      ]
     },
     "execution_count": 15,
     "metadata": {},
     "output_type": "execute_result"
    }
   ],
   "source": [
    "from sklearn.linear_model import LinearRegression\n",
    "MLR=LinearRegression()\n",
    "MLR_model=MLR.fit(x_train,y_train)\n",
    "MLR_model"
   ]
  },
  {
   "cell_type": "markdown",
   "id": "048ddc2b",
   "metadata": {},
   "source": [
    "- Here model MLR_Model is ready"
   ]
  },
  {
   "cell_type": "code",
   "execution_count": 16,
   "id": "5d877060",
   "metadata": {},
   "outputs": [
    {
     "data": {
      "text/plain": [
       "array([[ 2.55713397e+03,  1.92774628e+04,  4.17885020e+03,\n",
       "         3.69666693e-01, -4.54427764e+01, -4.44222529e+00,\n",
       "         2.65169402e+02]])"
      ]
     },
     "execution_count": 16,
     "metadata": {},
     "output_type": "execute_result"
    }
   ],
   "source": [
    "# finding m-value\n",
    "MLR_model.coef_"
   ]
  },
  {
   "cell_type": "markdown",
   "id": "0a4a8264",
   "metadata": {},
   "source": [
    "### Predicting the CTC using our trained model"
   ]
  },
  {
   "cell_type": "code",
   "execution_count": 17,
   "id": "075ca1f3",
   "metadata": {},
   "outputs": [
    {
     "data": {
      "text/html": [
       "<div>\n",
       "<style scoped>\n",
       "    .dataframe tbody tr th:only-of-type {\n",
       "        vertical-align: middle;\n",
       "    }\n",
       "\n",
       "    .dataframe tbody tr th {\n",
       "        vertical-align: top;\n",
       "    }\n",
       "\n",
       "    .dataframe thead th {\n",
       "        text-align: right;\n",
       "    }\n",
       "</style>\n",
       "<table border=\"1\" class=\"dataframe\">\n",
       "  <thead>\n",
       "    <tr style=\"text-align: right;\">\n",
       "      <th></th>\n",
       "      <th>CTC</th>\n",
       "      <th>CTC_pred</th>\n",
       "    </tr>\n",
       "  </thead>\n",
       "  <tbody>\n",
       "    <tr>\n",
       "      <th>1000</th>\n",
       "      <td>70944.167462</td>\n",
       "      <td>83559.839520</td>\n",
       "    </tr>\n",
       "    <tr>\n",
       "      <th>53</th>\n",
       "      <td>92378.502641</td>\n",
       "      <td>92383.634897</td>\n",
       "    </tr>\n",
       "    <tr>\n",
       "      <th>432</th>\n",
       "      <td>70832.226387</td>\n",
       "      <td>76381.154695</td>\n",
       "    </tr>\n",
       "    <tr>\n",
       "      <th>162</th>\n",
       "      <td>83984.481546</td>\n",
       "      <td>81192.756977</td>\n",
       "    </tr>\n",
       "    <tr>\n",
       "      <th>1020</th>\n",
       "      <td>81962.819031</td>\n",
       "      <td>80609.514398</td>\n",
       "    </tr>\n",
       "  </tbody>\n",
       "</table>\n",
       "</div>"
      ],
      "text/plain": [
       "               CTC      CTC_pred\n",
       "1000  70944.167462  83559.839520\n",
       "53    92378.502641  92383.634897\n",
       "432   70832.226387  76381.154695\n",
       "162   83984.481546  81192.756977\n",
       "1020  81962.819031  80609.514398"
      ]
     },
     "execution_count": 17,
     "metadata": {},
     "output_type": "execute_result"
    }
   ],
   "source": [
    "y_test['CTC_pred']=MLR_model.predict(x_test)\n",
    "y_test.head()"
   ]
  },
  {
   "cell_type": "markdown",
   "id": "bcc71800",
   "metadata": {},
   "source": [
    "## Evaluating the model"
   ]
  },
  {
   "cell_type": "code",
   "execution_count": 18,
   "id": "fe849c9b",
   "metadata": {},
   "outputs": [
    {
     "name": "stdout",
     "output_type": "stream",
     "text": [
      " The r_squared value is: 0.5854471211605076\n"
     ]
    }
   ],
   "source": [
    "r_square=MLR_model.score(x_train,y_train)\n",
    "print(\" The r_squared value is:\",r_square)"
   ]
  },
  {
   "cell_type": "markdown",
   "id": "0e236048",
   "metadata": {},
   "source": [
    "### Finding the errors"
   ]
  },
  {
   "cell_type": "code",
   "execution_count": 19,
   "id": "45bf3e65",
   "metadata": {},
   "outputs": [
    {
     "data": {
      "text/plain": [
       "1000   -12615.672059\n",
       "53         -5.132256\n",
       "432     -5548.928308\n",
       "162      2791.724569\n",
       "1020     1353.304633\n",
       "dtype: float64"
      ]
     },
     "execution_count": 19,
     "metadata": {},
     "output_type": "execute_result"
    }
   ],
   "source": [
    "error=y_test['CTC']-y_test['CTC_pred']\n",
    "error.head()"
   ]
  },
  {
   "cell_type": "markdown",
   "id": "8f00f400",
   "metadata": {},
   "source": [
    "### Checking the normality for errors"
   ]
  },
  {
   "cell_type": "code",
   "execution_count": 20,
   "id": "80f13af0",
   "metadata": {},
   "outputs": [
    {
     "data": {
      "text/plain": [
       "<AxesSubplot:ylabel='Density'>"
      ]
     },
     "execution_count": 20,
     "metadata": {},
     "output_type": "execute_result"
    },
    {
     "data": {
      "image/png": "[encoded data removed]",
      "text/plain": [
       "<Figure size 432x288 with 1 Axes>"
      ]
     },
     "metadata": {
      "needs_background": "light"
     },
     "output_type": "display_data"
    }
   ],
   "source": [
    "sns.distplot(error)"
   ]
  },
  {
   "cell_type": "markdown",
   "id": "08ac6cb7",
   "metadata": {},
   "source": [
    "- Here, we can say that the errors are normality distributed"
   ]
  },
  {
   "cell_type": "code",
   "execution_count": 21,
   "id": "e79d5f08",
   "metadata": {},
   "outputs": [
    {
     "data": {
      "text/html": [
       "<div>\n",
       "<style scoped>\n",
       "    .dataframe tbody tr th:only-of-type {\n",
       "        vertical-align: middle;\n",
       "    }\n",
       "\n",
       "    .dataframe tbody tr th {\n",
       "        vertical-align: top;\n",
       "    }\n",
       "\n",
       "    .dataframe thead th {\n",
       "        text-align: right;\n",
       "    }\n",
       "</style>\n",
       "<table border=\"1\" class=\"dataframe\">\n",
       "  <thead>\n",
       "    <tr style=\"text-align: right;\">\n",
       "      <th></th>\n",
       "      <th>CTC</th>\n",
       "      <th>CTC_pred</th>\n",
       "      <th>sq_error</th>\n",
       "    </tr>\n",
       "  </thead>\n",
       "  <tbody>\n",
       "    <tr>\n",
       "      <th>1000</th>\n",
       "      <td>70944.167462</td>\n",
       "      <td>83559.839520</td>\n",
       "      <td>1.591552e+08</td>\n",
       "    </tr>\n",
       "    <tr>\n",
       "      <th>53</th>\n",
       "      <td>92378.502641</td>\n",
       "      <td>92383.634897</td>\n",
       "      <td>2.634005e+01</td>\n",
       "    </tr>\n",
       "    <tr>\n",
       "      <th>432</th>\n",
       "      <td>70832.226387</td>\n",
       "      <td>76381.154695</td>\n",
       "      <td>3.079061e+07</td>\n",
       "    </tr>\n",
       "    <tr>\n",
       "      <th>162</th>\n",
       "      <td>83984.481546</td>\n",
       "      <td>81192.756977</td>\n",
       "      <td>7.793726e+06</td>\n",
       "    </tr>\n",
       "    <tr>\n",
       "      <th>1020</th>\n",
       "      <td>81962.819031</td>\n",
       "      <td>80609.514398</td>\n",
       "      <td>1.831433e+06</td>\n",
       "    </tr>\n",
       "  </tbody>\n",
       "</table>\n",
       "</div>"
      ],
      "text/plain": [
       "               CTC      CTC_pred      sq_error\n",
       "1000  70944.167462  83559.839520  1.591552e+08\n",
       "53    92378.502641  92383.634897  2.634005e+01\n",
       "432   70832.226387  76381.154695  3.079061e+07\n",
       "162   83984.481546  81192.756977  7.793726e+06\n",
       "1020  81962.819031  80609.514398  1.831433e+06"
      ]
     },
     "execution_count": 21,
     "metadata": {},
     "output_type": "execute_result"
    }
   ],
   "source": [
    "#calulating sq-error\n",
    "y_test['sq_error']=error**2\n",
    "y_test.head()"
   ]
  },
  {
   "cell_type": "code",
   "execution_count": 22,
   "id": "5d8bed45",
   "metadata": {},
   "outputs": [
    {
     "data": {
      "text/plain": [
       "60590391.079254754"
      ]
     },
     "execution_count": 22,
     "metadata": {},
     "output_type": "execute_result"
    }
   ],
   "source": [
    "# calulating mean error\n",
    "error_mean=y_test['sq_error'].mean()\n",
    "error_mean"
   ]
  },
  {
   "cell_type": "markdown",
   "id": "85d91535",
   "metadata": {},
   "source": [
    "### Finding RMSE value"
   ]
  },
  {
   "cell_type": "code",
   "execution_count": 23,
   "id": "bc531736",
   "metadata": {},
   "outputs": [
    {
     "data": {
      "text/plain": [
       "7783.982982975666"
      ]
     },
     "execution_count": 23,
     "metadata": {},
     "output_type": "execute_result"
    }
   ],
   "source": [
    "import math\n",
    "RMSE=math.sqrt(error_mean)\n",
    "RMSE"
   ]
  },
  {
   "cell_type": "markdown",
   "id": "cf29c7cf",
   "metadata": {},
   "source": [
    "### Getting the test data file"
   ]
  },
  {
   "cell_type": "code",
   "execution_count": 24,
   "id": "339d1056",
   "metadata": {},
   "outputs": [
    {
     "data": {
      "text/html": [
       "<div>\n",
       "<style scoped>\n",
       "    .dataframe tbody tr th:only-of-type {\n",
       "        vertical-align: middle;\n",
       "    }\n",
       "\n",
       "    .dataframe tbody tr th {\n",
       "        vertical-align: top;\n",
       "    }\n",
       "\n",
       "    .dataframe thead th {\n",
       "        text-align: right;\n",
       "    }\n",
       "</style>\n",
       "<table border=\"1\" class=\"dataframe\">\n",
       "  <thead>\n",
       "    <tr style=\"text-align: right;\">\n",
       "      <th></th>\n",
       "      <th>College</th>\n",
       "      <th>Role</th>\n",
       "      <th>City type</th>\n",
       "      <th>College_T1</th>\n",
       "      <th>College_T2</th>\n",
       "      <th>Role_Manager</th>\n",
       "      <th>City_Metro</th>\n",
       "      <th>previous CTC</th>\n",
       "      <th>previous job changes</th>\n",
       "      <th>Graduation marks</th>\n",
       "      <th>Exp</th>\n",
       "      <th>Actual CTC</th>\n",
       "      <th>Predicted CTC</th>\n",
       "    </tr>\n",
       "  </thead>\n",
       "  <tbody>\n",
       "    <tr>\n",
       "      <th>0</th>\n",
       "      <td>Tier 1</td>\n",
       "      <td>Manager</td>\n",
       "      <td>Non-Metro</td>\n",
       "      <td>1</td>\n",
       "      <td>0</td>\n",
       "      <td>1</td>\n",
       "      <td>0</td>\n",
       "      <td>55523</td>\n",
       "      <td>3</td>\n",
       "      <td>66</td>\n",
       "      <td>19</td>\n",
       "      <td>71406.576531</td>\n",
       "      <td>NaN</td>\n",
       "    </tr>\n",
       "    <tr>\n",
       "      <th>1</th>\n",
       "      <td>Tier 2</td>\n",
       "      <td>Executive</td>\n",
       "      <td>Metro</td>\n",
       "      <td>0</td>\n",
       "      <td>1</td>\n",
       "      <td>0</td>\n",
       "      <td>1</td>\n",
       "      <td>57081</td>\n",
       "      <td>1</td>\n",
       "      <td>84</td>\n",
       "      <td>18</td>\n",
       "      <td>68005.870631</td>\n",
       "      <td>NaN</td>\n",
       "    </tr>\n",
       "    <tr>\n",
       "      <th>2</th>\n",
       "      <td>Tier 2</td>\n",
       "      <td>Executive</td>\n",
       "      <td>Metro</td>\n",
       "      <td>0</td>\n",
       "      <td>1</td>\n",
       "      <td>0</td>\n",
       "      <td>1</td>\n",
       "      <td>60347</td>\n",
       "      <td>2</td>\n",
       "      <td>52</td>\n",
       "      <td>28</td>\n",
       "      <td>76764.020277</td>\n",
       "      <td>NaN</td>\n",
       "    </tr>\n",
       "  </tbody>\n",
       "</table>\n",
       "</div>"
      ],
      "text/plain": [
       "  College       Role  City type  College_T1  College_T2  Role_Manager  \\\n",
       "0  Tier 1    Manager  Non-Metro           1           0             1   \n",
       "1  Tier 2  Executive      Metro           0           1             0   \n",
       "2  Tier 2  Executive      Metro           0           1             0   \n",
       "\n",
       "   City_Metro  previous CTC  previous job changes  Graduation marks  Exp  \\\n",
       "0           0         55523                     3                66   19   \n",
       "1           1         57081                     1                84   18   \n",
       "2           1         60347                     2                52   28   \n",
       "\n",
       "     Actual CTC  Predicted CTC  \n",
       "0  71406.576531            NaN  \n",
       "1  68005.870631            NaN  \n",
       "2  76764.020277            NaN  "
      ]
     },
     "execution_count": 24,
     "metadata": {},
     "output_type": "execute_result"
    }
   ],
   "source": [
    "test_data=pd.read_excel(\"Test_data_file.xlsx\")\n",
    "test_data.head(3)"
   ]
  },
  {
   "cell_type": "markdown",
   "id": "94c7c01d",
   "metadata": {},
   "source": [
    "### Preprocessing"
   ]
  },
  {
   "cell_type": "code",
   "execution_count": 25,
   "id": "6f910657",
   "metadata": {},
   "outputs": [],
   "source": [
    "test_data=test_data.drop(['College_T1','College_T2','Role_Manager','City_Metro','Predicted CTC'],axis=1)"
   ]
  },
  {
   "cell_type": "code",
   "execution_count": 26,
   "id": "9fb4a52d",
   "metadata": {},
   "outputs": [
    {
     "data": {
      "text/html": [
       "<div>\n",
       "<style scoped>\n",
       "    .dataframe tbody tr th:only-of-type {\n",
       "        vertical-align: middle;\n",
       "    }\n",
       "\n",
       "    .dataframe tbody tr th {\n",
       "        vertical-align: top;\n",
       "    }\n",
       "\n",
       "    .dataframe thead th {\n",
       "        text-align: right;\n",
       "    }\n",
       "</style>\n",
       "<table border=\"1\" class=\"dataframe\">\n",
       "  <thead>\n",
       "    <tr style=\"text-align: right;\">\n",
       "      <th></th>\n",
       "      <th>College</th>\n",
       "      <th>Role</th>\n",
       "      <th>City type</th>\n",
       "      <th>previous CTC</th>\n",
       "      <th>previous job changes</th>\n",
       "      <th>Graduation marks</th>\n",
       "      <th>Exp</th>\n",
       "      <th>Actual CTC</th>\n",
       "    </tr>\n",
       "  </thead>\n",
       "  <tbody>\n",
       "    <tr>\n",
       "      <th>0</th>\n",
       "      <td>Tier 1</td>\n",
       "      <td>Manager</td>\n",
       "      <td>Non-Metro</td>\n",
       "      <td>55523</td>\n",
       "      <td>3</td>\n",
       "      <td>66</td>\n",
       "      <td>19</td>\n",
       "      <td>71406.576531</td>\n",
       "    </tr>\n",
       "    <tr>\n",
       "      <th>1</th>\n",
       "      <td>Tier 2</td>\n",
       "      <td>Executive</td>\n",
       "      <td>Metro</td>\n",
       "      <td>57081</td>\n",
       "      <td>1</td>\n",
       "      <td>84</td>\n",
       "      <td>18</td>\n",
       "      <td>68005.870631</td>\n",
       "    </tr>\n",
       "    <tr>\n",
       "      <th>2</th>\n",
       "      <td>Tier 2</td>\n",
       "      <td>Executive</td>\n",
       "      <td>Metro</td>\n",
       "      <td>60347</td>\n",
       "      <td>2</td>\n",
       "      <td>52</td>\n",
       "      <td>28</td>\n",
       "      <td>76764.020277</td>\n",
       "    </tr>\n",
       "    <tr>\n",
       "      <th>3</th>\n",
       "      <td>Tier 3</td>\n",
       "      <td>Executive</td>\n",
       "      <td>Metro</td>\n",
       "      <td>49010</td>\n",
       "      <td>2</td>\n",
       "      <td>81</td>\n",
       "      <td>33</td>\n",
       "      <td>82092.386880</td>\n",
       "    </tr>\n",
       "    <tr>\n",
       "      <th>4</th>\n",
       "      <td>Tier 3</td>\n",
       "      <td>Executive</td>\n",
       "      <td>Metro</td>\n",
       "      <td>57879</td>\n",
       "      <td>4</td>\n",
       "      <td>74</td>\n",
       "      <td>32</td>\n",
       "      <td>73878.097729</td>\n",
       "    </tr>\n",
       "  </tbody>\n",
       "</table>\n",
       "</div>"
      ],
      "text/plain": [
       "  College       Role  City type  previous CTC  previous job changes  \\\n",
       "0  Tier 1    Manager  Non-Metro         55523                     3   \n",
       "1  Tier 2  Executive      Metro         57081                     1   \n",
       "2  Tier 2  Executive      Metro         60347                     2   \n",
       "3  Tier 3  Executive      Metro         49010                     2   \n",
       "4  Tier 3  Executive      Metro         57879                     4   \n",
       "\n",
       "   Graduation marks  Exp    Actual CTC  \n",
       "0                66   19  71406.576531  \n",
       "1                84   18  68005.870631  \n",
       "2                52   28  76764.020277  \n",
       "3                81   33  82092.386880  \n",
       "4                74   32  73878.097729  "
      ]
     },
     "execution_count": 26,
     "metadata": {},
     "output_type": "execute_result"
    }
   ],
   "source": [
    "test_data.head()"
   ]
  },
  {
   "cell_type": "code",
   "execution_count": 27,
   "id": "8ed3296a",
   "metadata": {},
   "outputs": [
    {
     "name": "stdout",
     "output_type": "stream",
     "text": [
      "<class 'pandas.core.frame.DataFrame'>\n",
      "RangeIndex: 1338 entries, 0 to 1337\n",
      "Data columns (total 8 columns):\n",
      " #   Column                Non-Null Count  Dtype  \n",
      "---  ------                --------------  -----  \n",
      " 0   College               1338 non-null   int64  \n",
      " 1   Role                  1338 non-null   int64  \n",
      " 2   City type             1338 non-null   int64  \n",
      " 3   Previous CTC          1338 non-null   int64  \n",
      " 4   Previous job changes  1338 non-null   int64  \n",
      " 5   Graduation marks      1338 non-null   int64  \n",
      " 6   Exp (Months)          1338 non-null   int64  \n",
      " 7   CTC                   1338 non-null   float64\n",
      "dtypes: float64(1), int64(7)\n",
      "memory usage: 83.8 KB\n"
     ]
    }
   ],
   "source": [
    "data.info()"
   ]
  },
  {
   "cell_type": "code",
   "execution_count": 28,
   "id": "ba471942",
   "metadata": {},
   "outputs": [],
   "source": [
    "test_data=test_data.rename(columns={'previous CTC':'Previous CTC','previous job changes':'Previous job changes',\n",
    "                           'Exp':'Exp (Months)','Actual CTC':'CTC'})"
   ]
  },
  {
   "cell_type": "code",
   "execution_count": 30,
   "id": "279a8d44",
   "metadata": {},
   "outputs": [
    {
     "name": "stdout",
     "output_type": "stream",
     "text": [
      "<class 'pandas.core.frame.DataFrame'>\n",
      "RangeIndex: 1338 entries, 0 to 1337\n",
      "Data columns (total 8 columns):\n",
      " #   Column                Non-Null Count  Dtype  \n",
      "---  ------                --------------  -----  \n",
      " 0   College               1338 non-null   object \n",
      " 1   Role                  1338 non-null   object \n",
      " 2   City type             1338 non-null   object \n",
      " 3   Previous CTC          1338 non-null   int64  \n",
      " 4   Previous job changes  1338 non-null   int64  \n",
      " 5   Graduation marks      1338 non-null   int64  \n",
      " 6   Exp (Months)          1338 non-null   int64  \n",
      " 7   CTC                   1338 non-null   float64\n",
      "dtypes: float64(1), int64(4), object(3)\n",
      "memory usage: 83.8+ KB\n"
     ]
    }
   ],
   "source": [
    "test_data.info()"
   ]
  },
  {
   "cell_type": "code",
   "execution_count": 31,
   "id": "824fdb3c",
   "metadata": {},
   "outputs": [
    {
     "data": {
      "text/html": [
       "<div>\n",
       "<style scoped>\n",
       "    .dataframe tbody tr th:only-of-type {\n",
       "        vertical-align: middle;\n",
       "    }\n",
       "\n",
       "    .dataframe tbody tr th {\n",
       "        vertical-align: top;\n",
       "    }\n",
       "\n",
       "    .dataframe thead th {\n",
       "        text-align: right;\n",
       "    }\n",
       "</style>\n",
       "<table border=\"1\" class=\"dataframe\">\n",
       "  <thead>\n",
       "    <tr style=\"text-align: right;\">\n",
       "      <th></th>\n",
       "      <th>College</th>\n",
       "      <th>Role</th>\n",
       "      <th>City type</th>\n",
       "      <th>Previous CTC</th>\n",
       "      <th>Previous job changes</th>\n",
       "      <th>Graduation marks</th>\n",
       "      <th>Exp (Months)</th>\n",
       "      <th>CTC</th>\n",
       "    </tr>\n",
       "  </thead>\n",
       "  <tbody>\n",
       "    <tr>\n",
       "      <th>0</th>\n",
       "      <td>2</td>\n",
       "      <td>1</td>\n",
       "      <td>0</td>\n",
       "      <td>55523</td>\n",
       "      <td>3</td>\n",
       "      <td>66</td>\n",
       "      <td>19</td>\n",
       "      <td>71406.576531</td>\n",
       "    </tr>\n",
       "    <tr>\n",
       "      <th>1</th>\n",
       "      <td>1</td>\n",
       "      <td>0</td>\n",
       "      <td>1</td>\n",
       "      <td>57081</td>\n",
       "      <td>1</td>\n",
       "      <td>84</td>\n",
       "      <td>18</td>\n",
       "      <td>68005.870631</td>\n",
       "    </tr>\n",
       "    <tr>\n",
       "      <th>2</th>\n",
       "      <td>1</td>\n",
       "      <td>0</td>\n",
       "      <td>1</td>\n",
       "      <td>60347</td>\n",
       "      <td>2</td>\n",
       "      <td>52</td>\n",
       "      <td>28</td>\n",
       "      <td>76764.020277</td>\n",
       "    </tr>\n",
       "    <tr>\n",
       "      <th>3</th>\n",
       "      <td>0</td>\n",
       "      <td>0</td>\n",
       "      <td>1</td>\n",
       "      <td>49010</td>\n",
       "      <td>2</td>\n",
       "      <td>81</td>\n",
       "      <td>33</td>\n",
       "      <td>82092.386880</td>\n",
       "    </tr>\n",
       "    <tr>\n",
       "      <th>4</th>\n",
       "      <td>0</td>\n",
       "      <td>0</td>\n",
       "      <td>1</td>\n",
       "      <td>57879</td>\n",
       "      <td>4</td>\n",
       "      <td>74</td>\n",
       "      <td>32</td>\n",
       "      <td>73878.097729</td>\n",
       "    </tr>\n",
       "  </tbody>\n",
       "</table>\n",
       "</div>"
      ],
      "text/plain": [
       "   College  Role  City type  Previous CTC  Previous job changes  \\\n",
       "0        2     1          0         55523                     3   \n",
       "1        1     0          1         57081                     1   \n",
       "2        1     0          1         60347                     2   \n",
       "3        0     0          1         49010                     2   \n",
       "4        0     0          1         57879                     4   \n",
       "\n",
       "   Graduation marks  Exp (Months)           CTC  \n",
       "0                66            19  71406.576531  \n",
       "1                84            18  68005.870631  \n",
       "2                52            28  76764.020277  \n",
       "3                81            33  82092.386880  \n",
       "4                74            32  73878.097729  "
      ]
     },
     "execution_count": 31,
     "metadata": {},
     "output_type": "execute_result"
    }
   ],
   "source": [
    "test_data['College']=test_data['College'].map({'Tier 1':2,'Tier 2':1,'Tier 3':0})\n",
    "test_data['Role']=test_data['Role'].map({'Manager':1,'Executive':0})\n",
    "test_data['City type']=test_data['City type'].map({'Metro':1,'Non-Metro':0})\n",
    "test_data.head()"
   ]
  },
  {
   "cell_type": "code",
   "execution_count": 32,
   "id": "a50d13ad",
   "metadata": {},
   "outputs": [
    {
     "data": {
      "text/html": [
       "<div>\n",
       "<style scoped>\n",
       "    .dataframe tbody tr th:only-of-type {\n",
       "        vertical-align: middle;\n",
       "    }\n",
       "\n",
       "    .dataframe tbody tr th {\n",
       "        vertical-align: top;\n",
       "    }\n",
       "\n",
       "    .dataframe thead th {\n",
       "        text-align: right;\n",
       "    }\n",
       "</style>\n",
       "<table border=\"1\" class=\"dataframe\">\n",
       "  <thead>\n",
       "    <tr style=\"text-align: right;\">\n",
       "      <th></th>\n",
       "      <th>College</th>\n",
       "      <th>Role</th>\n",
       "      <th>City type</th>\n",
       "      <th>Previous CTC</th>\n",
       "      <th>Previous job changes</th>\n",
       "      <th>Graduation marks</th>\n",
       "      <th>Exp (Months)</th>\n",
       "    </tr>\n",
       "  </thead>\n",
       "  <tbody>\n",
       "    <tr>\n",
       "      <th>0</th>\n",
       "      <td>2</td>\n",
       "      <td>1</td>\n",
       "      <td>0</td>\n",
       "      <td>55523</td>\n",
       "      <td>3</td>\n",
       "      <td>66</td>\n",
       "      <td>19</td>\n",
       "    </tr>\n",
       "    <tr>\n",
       "      <th>1</th>\n",
       "      <td>1</td>\n",
       "      <td>0</td>\n",
       "      <td>1</td>\n",
       "      <td>57081</td>\n",
       "      <td>1</td>\n",
       "      <td>84</td>\n",
       "      <td>18</td>\n",
       "    </tr>\n",
       "    <tr>\n",
       "      <th>2</th>\n",
       "      <td>1</td>\n",
       "      <td>0</td>\n",
       "      <td>1</td>\n",
       "      <td>60347</td>\n",
       "      <td>2</td>\n",
       "      <td>52</td>\n",
       "      <td>28</td>\n",
       "    </tr>\n",
       "    <tr>\n",
       "      <th>3</th>\n",
       "      <td>0</td>\n",
       "      <td>0</td>\n",
       "      <td>1</td>\n",
       "      <td>49010</td>\n",
       "      <td>2</td>\n",
       "      <td>81</td>\n",
       "      <td>33</td>\n",
       "    </tr>\n",
       "    <tr>\n",
       "      <th>4</th>\n",
       "      <td>0</td>\n",
       "      <td>0</td>\n",
       "      <td>1</td>\n",
       "      <td>57879</td>\n",
       "      <td>4</td>\n",
       "      <td>74</td>\n",
       "      <td>32</td>\n",
       "    </tr>\n",
       "  </tbody>\n",
       "</table>\n",
       "</div>"
      ],
      "text/plain": [
       "   College  Role  City type  Previous CTC  Previous job changes  \\\n",
       "0        2     1          0         55523                     3   \n",
       "1        1     0          1         57081                     1   \n",
       "2        1     0          1         60347                     2   \n",
       "3        0     0          1         49010                     2   \n",
       "4        0     0          1         57879                     4   \n",
       "\n",
       "   Graduation marks  Exp (Months)  \n",
       "0                66            19  \n",
       "1                84            18  \n",
       "2                52            28  \n",
       "3                81            33  \n",
       "4                74            32  "
      ]
     },
     "execution_count": 32,
     "metadata": {},
     "output_type": "execute_result"
    }
   ],
   "source": [
    "# lets create target and dependent variables\n",
    "y1=test_data[['CTC']]\n",
    "x1=test_data.drop(columns=['CTC'])\n",
    "x1.head()"
   ]
  },
  {
   "cell_type": "markdown",
   "id": "d788d62e",
   "metadata": {},
   "source": [
    "### Predicting the values for test data using our trained model"
   ]
  },
  {
   "cell_type": "code",
   "execution_count": 33,
   "id": "bb0774e7",
   "metadata": {},
   "outputs": [
    {
     "data": {
      "text/html": [
       "<div>\n",
       "<style scoped>\n",
       "    .dataframe tbody tr th:only-of-type {\n",
       "        vertical-align: middle;\n",
       "    }\n",
       "\n",
       "    .dataframe tbody tr th {\n",
       "        vertical-align: top;\n",
       "    }\n",
       "\n",
       "    .dataframe thead th {\n",
       "        text-align: right;\n",
       "    }\n",
       "</style>\n",
       "<table border=\"1\" class=\"dataframe\">\n",
       "  <thead>\n",
       "    <tr style=\"text-align: right;\">\n",
       "      <th></th>\n",
       "      <th>CTC</th>\n",
       "      <th>Predicted CTC</th>\n",
       "    </tr>\n",
       "  </thead>\n",
       "  <tbody>\n",
       "    <tr>\n",
       "      <th>0</th>\n",
       "      <td>71406.576531</td>\n",
       "      <td>85311.870486</td>\n",
       "    </tr>\n",
       "    <tr>\n",
       "      <th>1</th>\n",
       "      <td>68005.870631</td>\n",
       "      <td>67977.820772</td>\n",
       "    </tr>\n",
       "    <tr>\n",
       "      <th>2</th>\n",
       "      <td>76764.020277</td>\n",
       "      <td>71933.554640</td>\n",
       "    </tr>\n",
       "    <tr>\n",
       "      <th>3</th>\n",
       "      <td>82092.386880</td>\n",
       "      <td>66382.531848</td>\n",
       "    </tr>\n",
       "    <tr>\n",
       "      <th>4</th>\n",
       "      <td>73878.097729</td>\n",
       "      <td>69336.146369</td>\n",
       "    </tr>\n",
       "  </tbody>\n",
       "</table>\n",
       "</div>"
      ],
      "text/plain": [
       "            CTC  Predicted CTC\n",
       "0  71406.576531   85311.870486\n",
       "1  68005.870631   67977.820772\n",
       "2  76764.020277   71933.554640\n",
       "3  82092.386880   66382.531848\n",
       "4  73878.097729   69336.146369"
      ]
     },
     "execution_count": 33,
     "metadata": {},
     "output_type": "execute_result"
    }
   ],
   "source": [
    "y1['Predicted CTC']=MLR_model.predict(x1)\n",
    "y1.head()"
   ]
  },
  {
   "cell_type": "code",
   "execution_count": 34,
   "id": "40d2278e",
   "metadata": {},
   "outputs": [
    {
     "data": {
      "text/html": [
       "<div>\n",
       "<style scoped>\n",
       "    .dataframe tbody tr th:only-of-type {\n",
       "        vertical-align: middle;\n",
       "    }\n",
       "\n",
       "    .dataframe tbody tr th {\n",
       "        vertical-align: top;\n",
       "    }\n",
       "\n",
       "    .dataframe thead th {\n",
       "        text-align: right;\n",
       "    }\n",
       "</style>\n",
       "<table border=\"1\" class=\"dataframe\">\n",
       "  <thead>\n",
       "    <tr style=\"text-align: right;\">\n",
       "      <th></th>\n",
       "      <th>CTC</th>\n",
       "      <th>Predicted CTC</th>\n",
       "      <th>error</th>\n",
       "    </tr>\n",
       "  </thead>\n",
       "  <tbody>\n",
       "    <tr>\n",
       "      <th>0</th>\n",
       "      <td>71406.576531</td>\n",
       "      <td>85311.870486</td>\n",
       "      <td>-13905.293955</td>\n",
       "    </tr>\n",
       "    <tr>\n",
       "      <th>1</th>\n",
       "      <td>68005.870631</td>\n",
       "      <td>67977.820772</td>\n",
       "      <td>28.049858</td>\n",
       "    </tr>\n",
       "    <tr>\n",
       "      <th>2</th>\n",
       "      <td>76764.020277</td>\n",
       "      <td>71933.554640</td>\n",
       "      <td>4830.465637</td>\n",
       "    </tr>\n",
       "    <tr>\n",
       "      <th>3</th>\n",
       "      <td>82092.386880</td>\n",
       "      <td>66382.531848</td>\n",
       "      <td>15709.855032</td>\n",
       "    </tr>\n",
       "    <tr>\n",
       "      <th>4</th>\n",
       "      <td>73878.097729</td>\n",
       "      <td>69336.146369</td>\n",
       "      <td>4541.951361</td>\n",
       "    </tr>\n",
       "  </tbody>\n",
       "</table>\n",
       "</div>"
      ],
      "text/plain": [
       "            CTC  Predicted CTC         error\n",
       "0  71406.576531   85311.870486 -13905.293955\n",
       "1  68005.870631   67977.820772     28.049858\n",
       "2  76764.020277   71933.554640   4830.465637\n",
       "3  82092.386880   66382.531848  15709.855032\n",
       "4  73878.097729   69336.146369   4541.951361"
      ]
     },
     "execution_count": 34,
     "metadata": {},
     "output_type": "execute_result"
    }
   ],
   "source": [
    "y1['error']=y1['CTC']-y1['Predicted CTC']\n",
    "y1.head()"
   ]
  },
  {
   "cell_type": "code",
   "execution_count": 35,
   "id": "7be6323c",
   "metadata": {},
   "outputs": [
    {
     "data": {
      "text/plain": [
       "<AxesSubplot:xlabel='error', ylabel='Density'>"
      ]
     },
     "execution_count": 35,
     "metadata": {},
     "output_type": "execute_result"
    },
    {
     "data": {
      "image/png": "[encoded data removed]",
      "text/plain": [
       "<Figure size 432x288 with 1 Axes>"
      ]
     },
     "metadata": {
      "needs_background": "light"
     },
     "output_type": "display_data"
    }
   ],
   "source": [
    "sns.distplot(y1['error'])"
   ]
  },
  {
   "cell_type": "code",
   "execution_count": 36,
   "id": "7092ba75",
   "metadata": {},
   "outputs": [
    {
     "data": {
      "text/plain": [
       "0.4834637767717711"
      ]
     },
     "execution_count": 36,
     "metadata": {},
     "output_type": "execute_result"
    }
   ],
   "source": [
    "y1['error'].skew()"
   ]
  },
  {
   "cell_type": "markdown",
   "id": "4f7873ec",
   "metadata": {},
   "source": [
    "- Errors are normally distributed"
   ]
  },
  {
   "cell_type": "code",
   "execution_count": 37,
   "id": "9f01c858",
   "metadata": {},
   "outputs": [
    {
     "data": {
      "text/html": [
       "<div>\n",
       "<style scoped>\n",
       "    .dataframe tbody tr th:only-of-type {\n",
       "        vertical-align: middle;\n",
       "    }\n",
       "\n",
       "    .dataframe tbody tr th {\n",
       "        vertical-align: top;\n",
       "    }\n",
       "\n",
       "    .dataframe thead th {\n",
       "        text-align: right;\n",
       "    }\n",
       "</style>\n",
       "<table border=\"1\" class=\"dataframe\">\n",
       "  <thead>\n",
       "    <tr style=\"text-align: right;\">\n",
       "      <th></th>\n",
       "      <th>CTC</th>\n",
       "      <th>Predicted CTC</th>\n",
       "      <th>error</th>\n",
       "      <th>Sqr-error</th>\n",
       "    </tr>\n",
       "  </thead>\n",
       "  <tbody>\n",
       "    <tr>\n",
       "      <th>0</th>\n",
       "      <td>71406.576531</td>\n",
       "      <td>85311.870486</td>\n",
       "      <td>-13905.293955</td>\n",
       "      <td>1.933572e+08</td>\n",
       "    </tr>\n",
       "    <tr>\n",
       "      <th>1</th>\n",
       "      <td>68005.870631</td>\n",
       "      <td>67977.820772</td>\n",
       "      <td>28.049858</td>\n",
       "      <td>7.867946e+02</td>\n",
       "    </tr>\n",
       "    <tr>\n",
       "      <th>2</th>\n",
       "      <td>76764.020277</td>\n",
       "      <td>71933.554640</td>\n",
       "      <td>4830.465637</td>\n",
       "      <td>2.333340e+07</td>\n",
       "    </tr>\n",
       "    <tr>\n",
       "      <th>3</th>\n",
       "      <td>82092.386880</td>\n",
       "      <td>66382.531848</td>\n",
       "      <td>15709.855032</td>\n",
       "      <td>2.467995e+08</td>\n",
       "    </tr>\n",
       "    <tr>\n",
       "      <th>4</th>\n",
       "      <td>73878.097729</td>\n",
       "      <td>69336.146369</td>\n",
       "      <td>4541.951361</td>\n",
       "      <td>2.062932e+07</td>\n",
       "    </tr>\n",
       "  </tbody>\n",
       "</table>\n",
       "</div>"
      ],
      "text/plain": [
       "            CTC  Predicted CTC         error     Sqr-error\n",
       "0  71406.576531   85311.870486 -13905.293955  1.933572e+08\n",
       "1  68005.870631   67977.820772     28.049858  7.867946e+02\n",
       "2  76764.020277   71933.554640   4830.465637  2.333340e+07\n",
       "3  82092.386880   66382.531848  15709.855032  2.467995e+08\n",
       "4  73878.097729   69336.146369   4541.951361  2.062932e+07"
      ]
     },
     "execution_count": 37,
     "metadata": {},
     "output_type": "execute_result"
    }
   ],
   "source": [
    "y1['Sqr-error']=y1['error']**2\n",
    "y1.head()"
   ]
  },
  {
   "cell_type": "code",
   "execution_count": 38,
   "id": "ac567ad7",
   "metadata": {},
   "outputs": [
    {
     "data": {
      "text/plain": [
       "63543088.26193991"
      ]
     },
     "execution_count": 38,
     "metadata": {},
     "output_type": "execute_result"
    }
   ],
   "source": [
    "MSE=y1['Sqr-error'].mean()\n",
    "MSE"
   ]
  },
  {
   "cell_type": "code",
   "execution_count": 39,
   "id": "c4a160c1",
   "metadata": {},
   "outputs": [
    {
     "name": "stdout",
     "output_type": "stream",
     "text": [
      "RMSE value is: 7971.39186478371\n"
     ]
    }
   ],
   "source": [
    "RMSE=math.sqrt(MSE)\n",
    "print(\"RMSE value is:\",RMSE)"
   ]
  },
  {
   "cell_type": "code",
   "execution_count": 40,
   "id": "fc312887",
   "metadata": {},
   "outputs": [
    {
     "data": {
      "text/html": [
       "<div>\n",
       "<style scoped>\n",
       "    .dataframe tbody tr th:only-of-type {\n",
       "        vertical-align: middle;\n",
       "    }\n",
       "\n",
       "    .dataframe tbody tr th {\n",
       "        vertical-align: top;\n",
       "    }\n",
       "\n",
       "    .dataframe thead th {\n",
       "        text-align: right;\n",
       "    }\n",
       "</style>\n",
       "<table border=\"1\" class=\"dataframe\">\n",
       "  <thead>\n",
       "    <tr style=\"text-align: right;\">\n",
       "      <th></th>\n",
       "      <th>College</th>\n",
       "      <th>Role</th>\n",
       "      <th>City type</th>\n",
       "      <th>Previous CTC</th>\n",
       "      <th>Previous job changes</th>\n",
       "      <th>Graduation marks</th>\n",
       "      <th>Exp (Months)</th>\n",
       "      <th>CTC</th>\n",
       "      <th>Predicted CTC</th>\n",
       "    </tr>\n",
       "  </thead>\n",
       "  <tbody>\n",
       "    <tr>\n",
       "      <th>0</th>\n",
       "      <td>2</td>\n",
       "      <td>1</td>\n",
       "      <td>0</td>\n",
       "      <td>55523</td>\n",
       "      <td>3</td>\n",
       "      <td>66</td>\n",
       "      <td>19</td>\n",
       "      <td>71406.576531</td>\n",
       "      <td>85311.870486</td>\n",
       "    </tr>\n",
       "    <tr>\n",
       "      <th>1</th>\n",
       "      <td>1</td>\n",
       "      <td>0</td>\n",
       "      <td>1</td>\n",
       "      <td>57081</td>\n",
       "      <td>1</td>\n",
       "      <td>84</td>\n",
       "      <td>18</td>\n",
       "      <td>68005.870631</td>\n",
       "      <td>67977.820772</td>\n",
       "    </tr>\n",
       "    <tr>\n",
       "      <th>2</th>\n",
       "      <td>1</td>\n",
       "      <td>0</td>\n",
       "      <td>1</td>\n",
       "      <td>60347</td>\n",
       "      <td>2</td>\n",
       "      <td>52</td>\n",
       "      <td>28</td>\n",
       "      <td>76764.020277</td>\n",
       "      <td>71933.554640</td>\n",
       "    </tr>\n",
       "    <tr>\n",
       "      <th>3</th>\n",
       "      <td>0</td>\n",
       "      <td>0</td>\n",
       "      <td>1</td>\n",
       "      <td>49010</td>\n",
       "      <td>2</td>\n",
       "      <td>81</td>\n",
       "      <td>33</td>\n",
       "      <td>82092.386880</td>\n",
       "      <td>66382.531848</td>\n",
       "    </tr>\n",
       "    <tr>\n",
       "      <th>4</th>\n",
       "      <td>0</td>\n",
       "      <td>0</td>\n",
       "      <td>1</td>\n",
       "      <td>57879</td>\n",
       "      <td>4</td>\n",
       "      <td>74</td>\n",
       "      <td>32</td>\n",
       "      <td>73878.097729</td>\n",
       "      <td>69336.146369</td>\n",
       "    </tr>\n",
       "  </tbody>\n",
       "</table>\n",
       "</div>"
      ],
      "text/plain": [
       "   College  Role  City type  Previous CTC  Previous job changes  \\\n",
       "0        2     1          0         55523                     3   \n",
       "1        1     0          1         57081                     1   \n",
       "2        1     0          1         60347                     2   \n",
       "3        0     0          1         49010                     2   \n",
       "4        0     0          1         57879                     4   \n",
       "\n",
       "   Graduation marks  Exp (Months)           CTC  Predicted CTC  \n",
       "0                66            19  71406.576531   85311.870486  \n",
       "1                84            18  68005.870631   67977.820772  \n",
       "2                52            28  76764.020277   71933.554640  \n",
       "3                81            33  82092.386880   66382.531848  \n",
       "4                74            32  73878.097729   69336.146369  "
      ]
     },
     "execution_count": 40,
     "metadata": {},
     "output_type": "execute_result"
    }
   ],
   "source": [
    "# Predicted CTC\n",
    "test_data['Predicted CTC']=y1['Predicted CTC']\n",
    "test_data.head()"
   ]
  },
  {
   "cell_type": "markdown",
   "id": "8a0ced43",
   "metadata": {},
   "source": [
    "### Getting the range of predicted CTC"
   ]
  },
  {
   "cell_type": "code",
   "execution_count": 41,
   "id": "31aa1994",
   "metadata": {},
   "outputs": [
    {
     "data": {
      "text/html": [
       "<div>\n",
       "<style scoped>\n",
       "    .dataframe tbody tr th:only-of-type {\n",
       "        vertical-align: middle;\n",
       "    }\n",
       "\n",
       "    .dataframe tbody tr th {\n",
       "        vertical-align: top;\n",
       "    }\n",
       "\n",
       "    .dataframe thead th {\n",
       "        text-align: right;\n",
       "    }\n",
       "</style>\n",
       "<table border=\"1\" class=\"dataframe\">\n",
       "  <thead>\n",
       "    <tr style=\"text-align: right;\">\n",
       "      <th></th>\n",
       "      <th>College</th>\n",
       "      <th>Role</th>\n",
       "      <th>City type</th>\n",
       "      <th>Previous CTC</th>\n",
       "      <th>Previous job changes</th>\n",
       "      <th>Graduation marks</th>\n",
       "      <th>Exp (Months)</th>\n",
       "      <th>CTC</th>\n",
       "      <th>Predicted CTC</th>\n",
       "      <th>Predicted Upper Range</th>\n",
       "      <th>Predicted Lower Range</th>\n",
       "    </tr>\n",
       "  </thead>\n",
       "  <tbody>\n",
       "    <tr>\n",
       "      <th>0</th>\n",
       "      <td>2</td>\n",
       "      <td>1</td>\n",
       "      <td>0</td>\n",
       "      <td>55523</td>\n",
       "      <td>3</td>\n",
       "      <td>66</td>\n",
       "      <td>19</td>\n",
       "      <td>71406.576531</td>\n",
       "      <td>85311.870486</td>\n",
       "      <td>93283.262350</td>\n",
       "      <td>77340.478621</td>\n",
       "    </tr>\n",
       "    <tr>\n",
       "      <th>1</th>\n",
       "      <td>1</td>\n",
       "      <td>0</td>\n",
       "      <td>1</td>\n",
       "      <td>57081</td>\n",
       "      <td>1</td>\n",
       "      <td>84</td>\n",
       "      <td>18</td>\n",
       "      <td>68005.870631</td>\n",
       "      <td>67977.820772</td>\n",
       "      <td>75949.212637</td>\n",
       "      <td>60006.428907</td>\n",
       "    </tr>\n",
       "    <tr>\n",
       "      <th>2</th>\n",
       "      <td>1</td>\n",
       "      <td>0</td>\n",
       "      <td>1</td>\n",
       "      <td>60347</td>\n",
       "      <td>2</td>\n",
       "      <td>52</td>\n",
       "      <td>28</td>\n",
       "      <td>76764.020277</td>\n",
       "      <td>71933.554640</td>\n",
       "      <td>79904.946505</td>\n",
       "      <td>63962.162775</td>\n",
       "    </tr>\n",
       "    <tr>\n",
       "      <th>3</th>\n",
       "      <td>0</td>\n",
       "      <td>0</td>\n",
       "      <td>1</td>\n",
       "      <td>49010</td>\n",
       "      <td>2</td>\n",
       "      <td>81</td>\n",
       "      <td>33</td>\n",
       "      <td>82092.386880</td>\n",
       "      <td>66382.531848</td>\n",
       "      <td>74353.923713</td>\n",
       "      <td>58411.139983</td>\n",
       "    </tr>\n",
       "    <tr>\n",
       "      <th>4</th>\n",
       "      <td>0</td>\n",
       "      <td>0</td>\n",
       "      <td>1</td>\n",
       "      <td>57879</td>\n",
       "      <td>4</td>\n",
       "      <td>74</td>\n",
       "      <td>32</td>\n",
       "      <td>73878.097729</td>\n",
       "      <td>69336.146369</td>\n",
       "      <td>77307.538233</td>\n",
       "      <td>61364.754504</td>\n",
       "    </tr>\n",
       "  </tbody>\n",
       "</table>\n",
       "</div>"
      ],
      "text/plain": [
       "   College  Role  City type  Previous CTC  Previous job changes  \\\n",
       "0        2     1          0         55523                     3   \n",
       "1        1     0          1         57081                     1   \n",
       "2        1     0          1         60347                     2   \n",
       "3        0     0          1         49010                     2   \n",
       "4        0     0          1         57879                     4   \n",
       "\n",
       "   Graduation marks  Exp (Months)           CTC  Predicted CTC  \\\n",
       "0                66            19  71406.576531   85311.870486   \n",
       "1                84            18  68005.870631   67977.820772   \n",
       "2                52            28  76764.020277   71933.554640   \n",
       "3                81            33  82092.386880   66382.531848   \n",
       "4                74            32  73878.097729   69336.146369   \n",
       "\n",
       "   Predicted Upper Range  Predicted Lower Range  \n",
       "0           93283.262350           77340.478621  \n",
       "1           75949.212637           60006.428907  \n",
       "2           79904.946505           63962.162775  \n",
       "3           74353.923713           58411.139983  \n",
       "4           77307.538233           61364.754504  "
      ]
     },
     "execution_count": 41,
     "metadata": {},
     "output_type": "execute_result"
    }
   ],
   "source": [
    "test_data['Predicted Upper Range']=test_data['Predicted CTC']+RMSE\n",
    "test_data['Predicted Lower Range']=test_data['Predicted CTC']-RMSE\n",
    "test_data.head()"
   ]
  },
  {
   "cell_type": "code",
   "execution_count": null,
   "id": "19c73634",
   "metadata": {},
   "outputs": [],
   "source": []
  }
 ],
 "metadata": {
  "kernelspec": {
   "display_name": "Python 3 (ipykernel)",
   "language": "python",
   "name": "python3"
  },
  "language_info": {
   "codemirror_mode": {
    "name": "ipython",
    "version": 3
   },
   "file_extension": ".py",
   "mimetype": "text/x-python",
   "name": "python",
   "nbconvert_exporter": "python",
   "pygments_lexer": "ipython3",
   "version": "3.8.8"
  }
 },
 "nbformat": 4,
 "nbformat_minor": 5
}
